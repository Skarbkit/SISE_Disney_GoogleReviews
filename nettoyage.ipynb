{
 "cells": [
  {
   "cell_type": "code",
   "execution_count": 412,
   "metadata": {},
   "outputs": [],
   "source": [
    "#numpy\n",
    "import numpy as np\n",
    "\n",
    "#chargement des posts dans une liste\n",
    "import os\n",
    "os.chdir(\"C:/Users/kenan/Desktop/textmining\")\n",
    "\n",
    "#import pandas\n",
    "import pandas as pd\n",
    "disney = pd.read_csv(\"disney_comment.txt\",sep=\",\",header=0)\n"
   ]
  },
  {
   "cell_type": "code",
   "execution_count": 414,
   "metadata": {},
   "outputs": [],
   "source": [
    "mois = {'janvier': '01','février': '02','mars':'03','avril':'04','mai':'05','juin':'06','juillet':'07','août':'08','septembre':'09','octobre':'10','novembre':'11','décembre':'12'}\n",
    "visite = list()\n",
    "for x in disney['Review Visite']:\n",
    "    if x == 'no visite mentionned':\n",
    "        a = None\n",
    "    else :\n",
    "        a = x[10:]\n",
    "        if a[-1].isdigit()==False:\n",
    "            a = a + ' 2023'\n",
    "        a = mois[a[:-5]]+'/'+a[-4:]\n",
    "    visite.append(a)\n",
    "\n",
    "disney['Date visite']= visite"
   ]
  },
  {
   "cell_type": "code",
   "execution_count": 415,
   "metadata": {},
   "outputs": [
    {
     "name": "stdout",
     "output_type": "stream",
     "text": [
      "<class 'pandas.core.frame.DataFrame'>\n"
     ]
    }
   ],
   "source": [
    "#type\n",
    "print(type(disney))"
   ]
  },
  {
   "cell_type": "code",
   "execution_count": 308,
   "metadata": {},
   "outputs": [
    {
     "name": "stdout",
     "output_type": "stream",
     "text": [
      "Index(['Review_ID', 'Review_Rate', 'Review_Time', 'Review_Text',\n",
      "       'Review_Visite', 'Date_visite'],\n",
      "      dtype='object')\n"
     ]
    }
   ],
   "source": [
    "#énumération des colonnes\n",
    "print(disney.columns)"
   ]
  },
  {
   "cell_type": "code",
   "execution_count": 309,
   "metadata": {},
   "outputs": [
    {
     "name": "stdout",
     "output_type": "stream",
     "text": [
      "Review_ID        object\n",
      "Review_Rate       int64\n",
      "Review_Time      object\n",
      "Review_Text      object\n",
      "Review_Visite    object\n",
      "Date_visite      object\n",
      "dtype: object\n"
     ]
    }
   ],
   "source": [
    "#type des colonnes\n",
    "print(disney.dtypes)"
   ]
  },
  {
   "cell_type": "code",
   "execution_count": 310,
   "metadata": {},
   "outputs": [
    {
     "name": "stdout",
     "output_type": "stream",
     "text": [
      "       Review_Rate\n",
      "count  1467.000000\n",
      "mean      4.311520\n",
      "std       1.194758\n",
      "min       1.000000\n",
      "25%       4.000000\n",
      "50%       5.000000\n",
      "75%       5.000000\n",
      "max       5.000000\n"
     ]
    }
   ],
   "source": [
    "#description\n",
    "print(disney.describe())"
   ]
  },
  {
   "cell_type": "code",
   "execution_count": 311,
   "metadata": {},
   "outputs": [
    {
     "name": "stdout",
     "output_type": "stream",
     "text": [
      "(1467, 6)\n"
     ]
    }
   ],
   "source": [
    "#dimension\n",
    "print(disney.shape)"
   ]
  },
  {
   "cell_type": "code",
   "execution_count": 312,
   "metadata": {},
   "outputs": [
    {
     "name": "stdout",
     "output_type": "stream",
     "text": [
      "0                                              no comment\n",
      "1       Un incontournable, clap de fin d’un séjour mag...\n",
      "2                                              no comment\n",
      "3       (Traduit par Google) L'anticipation était prob...\n",
      "4                                              no comment\n",
      "                              ...                        \n",
      "1462                                           no comment\n",
      "1463                                           no comment\n",
      "1464                                           no comment\n",
      "1465    (Traduit par Google) Le mot \"meh\" me vient à l...\n",
      "1466                                           no comment\n",
      "Name: Review_Text, Length: 1467, dtype: object\n"
     ]
    }
   ],
   "source": [
    "#afficher le contenu de la colonne review rate\n",
    "print(disney['Review Text'])"
   ]
  },
  {
   "cell_type": "code",
   "execution_count": 313,
   "metadata": {},
   "outputs": [
    {
     "name": "stdout",
     "output_type": "stream",
     "text": [
      "5    974\n",
      "4    242\n",
      "1    106\n",
      "3     91\n",
      "2     54\n",
      "Name: Review_Rate, dtype: int64\n"
     ]
    }
   ],
   "source": [
    "#fréquence du nombre de notes\n",
    "print(disney.Review_Rate.value_counts())"
   ]
  },
  {
   "cell_type": "code",
   "execution_count": 418,
   "metadata": {},
   "outputs": [],
   "source": [
    "#fonction pour ne garder que le commentaire traduit\n",
    "def find_between( s, first, last ):\n",
    "    try:\n",
    "        start = s.index( first ) + len( first )\n",
    "        end = s.index(last)\n",
    "        return s[start:end]\n",
    "    except ValueError:\n",
    "        return \"\""
   ]
  },
  {
   "cell_type": "code",
   "execution_count": 315,
   "metadata": {},
   "outputs": [],
   "source": [
    "#création d'une nouvelle colonne avce uniquement le commentaire traduit\n",
    "disney['Text'] = disney['Review Text'].apply(lambda x: find_between(x, \"(Traduit par Google)\" ,\"(Avis d'origine)\"))"
   ]
  },
  {
   "cell_type": "code",
   "execution_count": 316,
   "metadata": {},
   "outputs": [
    {
     "name": "stdout",
     "output_type": "stream",
     "text": [
      "['02' '10' '100' ... 'êtes' 'être' 'œil']\n"
     ]
    }
   ],
   "source": [
    "#importer la classe CountVectorizer\n",
    "from sklearn.feature_extraction.text import CountVectorizer\n",
    "parseur = CountVectorizer()\n",
    "\n",
    "#pour la colonne \"Text\"\n",
    "X = parseur.fit_transform(disney['Text'])\n",
    "\n",
    "#liste des tokens\n",
    "print(parseur.get_feature_names_out())\n",
    "\n"
   ]
  },
  {
   "cell_type": "code",
   "execution_count": 317,
   "metadata": {},
   "outputs": [
    {
     "name": "stdout",
     "output_type": "stream",
     "text": [
      "2879\n"
     ]
    }
   ],
   "source": [
    "#nombre de tokens\n",
    "print(len(parseur.get_feature_names_out()))"
   ]
  },
  {
   "cell_type": "code",
   "execution_count": 318,
   "metadata": {},
   "outputs": [
    {
     "name": "stdout",
     "output_type": "stream",
     "text": [
      "<class 'numpy.ndarray'>\n",
      "(1467, 2879)\n"
     ]
    }
   ],
   "source": [
    "#construire la matrice\n",
    "mdt = X.toarray()\n",
    "print(type(mdt))\n",
    "print(mdt.shape)"
   ]
  },
  {
   "cell_type": "code",
   "execution_count": 319,
   "metadata": {},
   "outputs": [
    {
     "name": "stdout",
     "output_type": "stream",
     "text": [
      "[ 1 13  6 ... 20 53  2]\n"
     ]
    }
   ],
   "source": [
    "#apparition des mots\n",
    "freq_mots = np.sum(mdt,axis=0)\n",
    "print(freq_mots)"
   ]
  },
  {
   "cell_type": "code",
   "execution_count": 320,
   "metadata": {},
   "outputs": [
    {
     "name": "stdout",
     "output_type": "stream",
     "text": [
      "[   0 1647 1646 ... 1491 1017  730]\n"
     ]
    }
   ],
   "source": [
    "#argsort\n",
    "index = np.argsort(freq_mots)\n",
    "print(index)"
   ]
  },
  {
   "cell_type": "code",
   "execution_count": 321,
   "metadata": {},
   "outputs": [
    {
     "name": "stdout",
     "output_type": "stream",
     "text": [
      "          terme  freq\n",
      "0            02     1\n",
      "1     minimales     1\n",
      "2       minimal     1\n",
      "3          mini     1\n",
      "4      minables     1\n",
      "...         ...   ...\n",
      "2874         la   382\n",
      "2875         le   425\n",
      "2876        les   453\n",
      "2877         et   600\n",
      "2878         de   727\n",
      "\n",
      "[2879 rows x 2 columns]\n"
     ]
    },
    {
     "name": "stderr",
     "output_type": "stream",
     "text": [
      "c:\\Users\\kenan\\AppData\\Local\\Programs\\Python\\Python38-32\\lib\\site-packages\\sklearn\\utils\\deprecation.py:87: FutureWarning: Function get_feature_names is deprecated; get_feature_names is deprecated in 1.0 and will be removed in 1.2. Please use get_feature_names_out instead.\n",
      "  warnings.warn(msg, category=FutureWarning)\n"
     ]
    }
   ],
   "source": [
    "#astuce pour imprimer en deux colonnes\n",
    "imp = {'terme':np.asarray(parseur.get_feature_names())[index],'freq':freq_mots[index]}\n",
    "print(pandas.DataFrame(imp))\n"
   ]
  },
  {
   "cell_type": "code",
   "execution_count": 322,
   "metadata": {},
   "outputs": [],
   "source": [
    "#importer la librairie NLTK\n",
    "import nltk\n",
    "#installer \"Stopwords corpus\" à partir de l'onglet \"CORPORA\"\n",
    "#nltk.download()"
   ]
  },
  {
   "cell_type": "code",
   "execution_count": 323,
   "metadata": {},
   "outputs": [],
   "source": [
    "#charger les stopwords\n",
    "from nltk.corpus import stopwords\n",
    "stwf = stopwords.words('french')"
   ]
  },
  {
   "cell_type": "code",
   "execution_count": 362,
   "metadata": {},
   "outputs": [
    {
     "name": "stdout",
     "output_type": "stream",
     "text": [
      "['zero', 'deux', 'trois', 'quatre', 'cinq', 'six', 'sept', 'huit', 'neuf', 'dix', 'plus', 'très', 'parc', 'tout', 'disney', 'disneyland', 'sud', 'si', 'fois', 'car', 'vraiment', 'moins', 'paris', 'chien', \"c'est\", 'a', 'cela', \"j'ai\", 'peu', 'jour', 'faire', 'être', 'tous', \"'\", 'donc', \"qu'il\", \"qu'elle\", 'zero', 'deux', 'trois', 'quatre', 'cinq', 'six', 'sept', 'huit', 'neuf', 'dix', 'plus', 'très', 'parc', 'tout', 'disney', 'disneyland', 'sud', 'si', 'fois', 'car', 'vraiment', 'moins', 'paris', 'chien', \"c'est\", 'a', 'cela', \"j'ai\", 'peu', 'jour', 'faire', 'être', 'tous', \"'\", 'donc', \"qu'il\", \"qu'elle\", 'zero', 'deux', 'trois', 'quatre', 'cinq', 'sept', 'huit', 'neuf', 'plus', 'très', 'parc', 'tout', 'disney', 'disneyland', 'fois', 'vraiment', 'moins', 'paris', 'chien', \"c'est\", 'cela', \"j'ai\", 'jour', 'faire', 'être', 'tous', 'donc', \"qu'il\", \"qu'elle\", 'zero', 'deux', 'trois', 'quatre', 'cinq', 'sept', 'huit', 'neuf', 'plus', 'très', 'parc', 'tout', 'disney', 'disneyland', 'fois', 'vraiment', 'moins', 'paris', 'chien', \"c'est\", 'cela', \"j'ai\", 'jour', 'faire', 'être', 'tous', 'donc', \"qu'il\", \"qu'elle\"]\n"
     ]
    }
   ],
   "source": [
    "stwf = [word for word in stwf if word not in stopwords.words('french')]\n",
    "stwf.extend([word for word in stwf if (len(word) > 3)])\n",
    "print(stwf)"
   ]
  },
  {
   "cell_type": "code",
   "execution_count": 325,
   "metadata": {},
   "outputs": [
    {
     "name": "stdout",
     "output_type": "stream",
     "text": [
      "0\n"
     ]
    }
   ],
   "source": [
    "\n",
    "#nombre\n",
    "print(len(stwf))"
   ]
  },
  {
   "cell_type": "code",
   "execution_count": 326,
   "metadata": {},
   "outputs": [
    {
     "name": "stdout",
     "output_type": "stream",
     "text": [
      "[]\n"
     ]
    }
   ],
   "source": [
    "\n",
    "#afficher\n",
    "print(stwf)"
   ]
  },
  {
   "cell_type": "code",
   "execution_count": 327,
   "metadata": {},
   "outputs": [
    {
     "name": "stdout",
     "output_type": "stream",
     "text": [
      "[]\n"
     ]
    }
   ],
   "source": [
    "\n",
    "#affichage trié\n",
    "print(np.sort(stwf))"
   ]
  },
  {
   "cell_type": "code",
   "execution_count": 328,
   "metadata": {},
   "outputs": [
    {
     "name": "stdout",
     "output_type": "stream",
     "text": [
      "['les']\n"
     ]
    }
   ],
   "source": [
    "#on va ajouter le stopword 'les'\n",
    "stwf.append('les')\n",
    "\n",
    "\n",
    "#afficher\n",
    "print(np.sort(stwf))\n"
   ]
  },
  {
   "cell_type": "code",
   "execution_count": 329,
   "metadata": {},
   "outputs": [
    {
     "name": "stdout",
     "output_type": "stream",
     "text": [
      "2878\n",
      "['02' '10' '100' ... 'êtes' 'être' 'œil']\n"
     ]
    }
   ],
   "source": [
    "\n",
    "#reconstruire la mdt sans les stopwords\n",
    "parseur_bis = CountVectorizer(stop_words=stwf)\n",
    "X_bis = parseur_bis.fit_transform(disney['Text'])\n",
    "\n",
    "\n",
    "#liste des tokens\n",
    "print(len(parseur_bis.get_feature_names_out()))\n",
    "print(parseur_bis.get_feature_names_out())\n"
   ]
  },
  {
   "cell_type": "code",
   "execution_count": 330,
   "metadata": {},
   "outputs": [
    {
     "name": "stdout",
     "output_type": "stream",
     "text": [
      "(1467, 2878)\n"
     ]
    }
   ],
   "source": [
    "\n",
    "#mdt_bis\n",
    "mdt_bis = X_bis.toarray()\n",
    "print(mdt_bis.shape)"
   ]
  },
  {
   "cell_type": "code",
   "execution_count": 331,
   "metadata": {},
   "outputs": [
    {
     "name": "stdout",
     "output_type": "stream",
     "text": [
      "[ 1 13  6 ... 20 53  2]\n"
     ]
    }
   ],
   "source": [
    "\n",
    "#apparition des mots\n",
    "freq_mots_bis = np.sum(mdt_bis,axis=0)\n",
    "print(freq_mots_bis)\n"
   ]
  },
  {
   "cell_type": "code",
   "execution_count": 332,
   "metadata": {},
   "outputs": [
    {
     "name": "stdout",
     "output_type": "stream",
     "text": [
      "[   0 1646 1645 ... 1489 1017  730]\n"
     ]
    }
   ],
   "source": [
    "\n",
    "#argsort\n",
    "index_bis = np.argsort(freq_mots_bis)\n",
    "print(index_bis)\n"
   ]
  },
  {
   "cell_type": "code",
   "execution_count": 333,
   "metadata": {},
   "outputs": [
    {
     "name": "stdout",
     "output_type": "stream",
     "text": [
      "          terme  freq\n",
      "0            02     1\n",
      "1     minimales     1\n",
      "2       minimal     1\n",
      "3          mini     1\n",
      "4      minables     1\n",
      "...         ...   ...\n",
      "2873        est   359\n",
      "2874         la   382\n",
      "2875         le   425\n",
      "2876         et   600\n",
      "2877         de   727\n",
      "\n",
      "[2878 rows x 2 columns]\n"
     ]
    }
   ],
   "source": [
    "\n",
    "#astuce pour imprimer en deux colonnes\n",
    "imp = {'terme':np.asarray(parseur_bis.get_feature_names_out())[index_bis],'freq':freq_mots_bis[index_bis]}\n",
    "print(pandas.DataFrame(imp))"
   ]
  },
  {
   "cell_type": "code",
   "execution_count": 369,
   "metadata": {},
   "outputs": [
    {
     "name": "stdout",
     "output_type": "stream",
     "text": [
      "['zero', 'deux', 'trois', 'quatre', 'cinq', 'six', 'sept', 'huit', 'neuf', 'dix', 'plus', 'très', 'parc', 'tout', 'disney', 'disneyland', 'sud', 'si', 'fois', 'car', 'vraiment', 'moins', 'paris', 'chien', \"c'est\", 'a', 'cela', \"j'ai\", 'peu', 'jour', 'faire', 'être', 'tous', \"'\", 'donc', \"qu'il\", \"qu'elle\", 'zero', 'deux', 'trois', 'quatre', 'cinq', 'six', 'sept', 'huit', 'neuf', 'dix', 'plus', 'très', 'parc', 'tout', 'disney', 'disneyland', 'sud', 'si', 'fois', 'car', 'vraiment', 'moins', 'paris', 'chien', \"c'est\", 'a', 'cela', \"j'ai\", 'peu', 'jour', 'faire', 'être', 'tous', \"'\", 'donc', \"qu'il\", \"qu'elle\", 'zero', 'deux', 'trois', 'quatre', 'cinq', 'sept', 'huit', 'neuf', 'plus', 'très', 'parc', 'tout', 'disney', 'disneyland', 'fois', 'vraiment', 'moins', 'paris', 'chien', \"c'est\", 'cela', \"j'ai\", 'jour', 'faire', 'être', 'tous', 'donc', \"qu'il\", \"qu'elle\", 'zero', 'deux', 'trois', 'quatre', 'cinq', 'sept', 'huit', 'neuf', 'plus', 'très', 'parc', 'tout', 'disney', 'disneyland', 'fois', 'vraiment', 'moins', 'paris', 'chien', \"c'est\", 'cela', \"j'ai\", 'jour', 'faire', 'être', 'tous', 'donc', \"qu'il\", \"qu'elle\", 'zero', 'un', 'deux', 'trois', 'quatre', 'cinq', 'six', 'sept', 'huit', 'neuf', 'dix', 'plus', 'très', 'parc', 'tout', 'disney', 'disneyland', 'sud', 'si', 'le', 'nous', 'de', 'et', 'la', 'les', 'vous', 'pour', 'que', 'pas', 'est', 'il', 'je', 'des', 'des', 'une', 'en', 'dans', 'était', 'ai', 'ne', 'été', 'au', 'ils', 'sont', 'du', 'avec', 'mais', 'ne', 'qui', 'ce', 'qu', 'fois', 'avons', 'même', 'car', 'ma', 'vraiment', 'ou', 'par', 'ont', 'moins', 'notre', 'paris', 'chien', 'à', \"c'est\", 'a', 'cela', 'sur', \"j'ai\", 'ce', 'y', 'peu', 'au', 'jour', 'faire', 'être', 'se', 'tous', \"'\", 'donc', \"qu'il\", \"qu'elle\", 'zero', 'un', 'deux', 'trois', 'quatre', 'cinq', 'six', 'sept', 'huit', 'neuf', 'dix', 'plus', 'très', 'parc', 'tout', 'disney', 'disneyland', 'sud', 'si', 'le', 'nous', 'de', 'et', 'la', 'les', 'vous', 'pour', 'que', 'pas', 'est', 'il', 'je', 'des', 'des', 'une', 'en', 'dans', 'était', 'ai', 'ne', 'été', 'au', 'ils', 'sont', 'du', 'avec', 'mais', 'ne', 'qui', 'ce', 'qu', 'fois', 'avons', 'même', 'car', 'ma', 'vraiment', 'ou', 'par', 'ont', 'moins', 'notre', 'paris', 'chien', 'à', \"c'est\", 'a', 'cela', 'sur', \"j'ai\", 'ce', 'y', 'peu', 'au', 'jour', 'faire', 'être', 'se', 'tous', \"'\", 'donc', \"qu'il\", \"qu'elle\", \"n'est\", \"d'une\", \"c'était\"]\n"
     ]
    }
   ],
   "source": [
    "\n",
    "#rajouter les chiffres en stop words\n",
    "stwf.extend([word for word in stwf if (len(word) > 3)])\n",
    "stwf.extend(['zero','un','deux','trois','quatre','cinq','six','sept','huit','neuf','dix','plus','très','parc','tout','disney','disneyland','sud','si','le','nous','de','et','la','les','vous','pour','que','pas','est','il','je','des',\n",
    "             'des','une','en','dans','était','ai','ne','été','au','ils','sont','du','avec','mais','ne','qui','ce','qu','fois','avons','même','car','ma','vraiment','ou','par','ont','moins','notre','paris','chien','à',\"c'est\",\"a\",\"cela\",\n",
    "             \"sur\",\"j'ai\",\"ce\",\"y\",\"peu\",\"au\",\"jour\",\"faire\",\"être\",\"se\",\"tous\",\"'\",\"donc\",\"qu'il\",\"qu'elle\",\"n'est\",\"d'une\",\"c'était\",\"votre\",\"ça\",\"ici\",\"étaient\"])\n",
    "print(stwf)"
   ]
  },
  {
   "cell_type": "code",
   "execution_count": 335,
   "metadata": {},
   "outputs": [
    {
     "name": "stdout",
     "output_type": "stream",
     "text": [
      "2814\n",
      "['02' '10' '100' ... 'événements' 'êtes' 'œil']\n",
      "(1467, 2814)\n",
      "[ 1 13  6 ...  5 20  2]\n",
      "[   0 1620 1618 ... 2520  304  297]\n",
      "            terme  freq\n",
      "0              02     1\n",
      "1          minuit     1\n",
      "2        ministre     1\n",
      "3       minimales     1\n",
      "4         minimal     1\n",
      "...           ...   ...\n",
      "2809   expérience    72\n",
      "2810      enfants    73\n",
      "2811        temps    75\n",
      "2812  attractions    99\n",
      "2813      attente   139\n",
      "\n",
      "[2814 rows x 2 columns]\n"
     ]
    },
    {
     "name": "stderr",
     "output_type": "stream",
     "text": [
      "c:\\Users\\kenan\\AppData\\Local\\Programs\\Python\\Python38-32\\lib\\site-packages\\sklearn\\feature_extraction\\text.py:404: UserWarning: Your stop_words may be inconsistent with your preprocessing. Tokenizing the stop words generated tokens ['elle'] not in stop_words.\n",
      "  warnings.warn(\n"
     ]
    }
   ],
   "source": [
    "\n",
    "#reconstruire la mdt\n",
    "parseur_ter = CountVectorizer(stop_words=stwf)\n",
    "X_ter = parseur_ter.fit_transform(disney['Text'])\n",
    "#liste des tokens\n",
    "print(len(parseur_ter.get_feature_names_out()))\n",
    "print(parseur_ter.get_feature_names_out())\n",
    "#mdt_ter\n",
    "mdt_ter = X_ter.toarray()\n",
    "print(mdt_ter.shape)\n",
    "#apparition des mots\n",
    "freq_mots_ter = np.sum(mdt_ter,axis=0)\n",
    "print(freq_mots_ter)\n",
    "#argmax\n",
    "index_ter = np.argsort(freq_mots_ter)\n",
    "print(index_ter)\n",
    "#astuce pour imprimer en deux colonnes\n",
    "imp = {'terme':np.asarray(parseur_ter.get_feature_names_out())[index_ter],'freq':freq_mots_ter[index_ter]}\n",
    "print(pandas.DataFrame(imp))"
   ]
  },
  {
   "cell_type": "code",
   "execution_count": 336,
   "metadata": {},
   "outputs": [
    {
     "name": "stdout",
     "output_type": "stream",
     "text": [
      "['__class__', '__delattr__', '__dict__', '__dir__', '__doc__', '__eq__', '__format__', '__ge__', '__getattribute__', '__getstate__', '__gt__', '__hash__', '__init__', '__init_subclass__', '__le__', '__lt__', '__module__', '__ne__', '__new__', '__reduce__', '__reduce_ex__', '__repr__', '__setattr__', '__setstate__', '__sizeof__', '__str__', '__subclasshook__', '__weakref__', '_check_feature_names', '_check_n_features', '_get_param_names', '_get_tags', '_more_tags', '_n_features_out', '_repr_html_', '_repr_html_inner', '_repr_mimebundle_', '_validate_data', 'algorithm', 'components_', 'explained_variance_', 'explained_variance_ratio_', 'fit', 'fit_transform', 'get_feature_names_out', 'get_params', 'inverse_transform', 'n_components', 'n_features_in_', 'n_iter', 'n_oversamples', 'power_iteration_normalizer', 'random_state', 'set_params', 'singular_values_', 'tol', 'transform']\n"
     ]
    }
   ],
   "source": [
    "#******************\n",
    "#SVD en 10 facteurs\n",
    "#******************\n",
    "#importation de la classe\n",
    "from sklearn.decomposition import TruncatedSVD\n",
    "#instanciation\n",
    "svd = TruncatedSVD(n_components=10,algorithm=\"arpack\")\n",
    "#apprentissage\n",
    "csvd = svd.fit_transform(mdt_ter.astype(float)) # ou (1.0*mdt_ter)\n",
    "#attributs de l'objet\n",
    "print(dir(svd))"
   ]
  },
  {
   "cell_type": "code",
   "execution_count": 337,
   "metadata": {},
   "outputs": [
    {
     "name": "stdout",
     "output_type": "stream",
     "text": [
      "[0.09015559 0.03514197 0.02663164 0.024562   0.02161295 0.02063045\n",
      " 0.02047251 0.01894251 0.01696643 0.01605023]\n"
     ]
    }
   ],
   "source": [
    "#variance expliquée par facteur\n",
    "print(svd.explained_variance_ratio_)"
   ]
  },
  {
   "cell_type": "code",
   "execution_count": 338,
   "metadata": {},
   "outputs": [
    {
     "name": "stdout",
     "output_type": "stream",
     "text": [
      "0.2911662891649363\n"
     ]
    }
   ],
   "source": [
    "#total variance expliquée\n",
    "print(np.sum(svd.explained_variance_ratio_))"
   ]
  },
  {
   "cell_type": "code",
   "execution_count": 339,
   "metadata": {},
   "outputs": [
    {
     "name": "stdout",
     "output_type": "stream",
     "text": [
      "(10, 2814)\n"
     ]
    }
   ],
   "source": [
    "#dimension du tableau des valeurs\n",
    "print(svd.components_.shape)"
   ]
  },
  {
   "cell_type": "code",
   "execution_count": 340,
   "metadata": {},
   "outputs": [
    {
     "name": "stdout",
     "output_type": "stream",
     "text": [
      "[1. 1. 1. 1. 1. 1. 1. 1. 1. 1.]\n"
     ]
    }
   ],
   "source": [
    "#somme des carrés des valeurs en ligne\n",
    "print(np.sum(svd.components_**2,axis=1))"
   ]
  },
  {
   "cell_type": "code",
   "execution_count": 390,
   "metadata": {},
   "outputs": [
    {
     "name": "stdout",
     "output_type": "stream",
     "text": [
      "FACTEUR : 0\n",
      "attente:0.36496696968851466\n",
      "temps:0.21217837019278657\n",
      "attractions:0.20827404675928707\n",
      "bien:0.19846756199048032\n",
      "files:0.15757739644411492\n",
      "\n",
      "FACTEUR : 1\n",
      "entrée:0.3835877199771883\n",
      "sécurité:0.3450163843668209\n",
      "attente:-0.27451726030631507\n",
      "personnel:0.18620326168382578\n",
      "chiens:0.16606782811612147\n",
      "\n",
      "FACTEUR : 2\n",
      "attractions:-0.2342248184959268\n",
      "files:-0.20279881052896942\n",
      "enfants:-0.1847141299277735\n",
      "attente:-0.17232649417375737\n",
      "toujours:0.17064106429073733\n",
      "\n",
      "FACTEUR : 3\n",
      "attente:-0.3988431125699417\n",
      "attractions:0.291175602678759\n",
      "entrée:-0.19421529249780073\n",
      "files:-0.1744415305108553\n",
      "jours:0.1411773397221082\n",
      "\n",
      "FACTEUR : 4\n",
      "bien:-0.23065878237487888\n",
      "expérience:0.2261098803397896\n",
      "attractions:-0.19380277177926022\n",
      "faut:0.19041224210414953\n",
      "chaque:0.18969551818148647\n",
      "\n",
      "FACTEUR : 5\n",
      "jours:-0.20454293887586084\n",
      "spectacle:0.18377186082999913\n",
      "ans:0.1824789121691689\n",
      "endroit:0.13695901751946649\n",
      "avez:-0.1331068919758534\n",
      "\n",
      "FACTEUR : 6\n",
      "étaient:-0.24484099457104946\n",
      "avait:-0.19357587076218646\n",
      "bien:0.19129161294986996\n",
      "spectacle:0.18713605921936066\n",
      "fille:-0.15571857186186877\n",
      "\n",
      "FACTEUR : 7\n",
      "avait:0.26890079114261095\n",
      "fille:0.23979353827170352\n",
      "petite:0.16962098856806926\n",
      "depuis:-0.15105974577127182\n",
      "nourriture:0.14732033811296052\n",
      "\n",
      "FACTEUR : 8\n",
      "attractions:-0.41295860149143265\n",
      "endroit:0.1693025068623531\n",
      "billets:0.16480755011233084\n",
      "étaient:0.16380075810785877\n",
      "expérience:0.16346508899408346\n",
      "\n",
      "FACTEUR : 9\n",
      "pouvez:0.20599628173652654\n",
      "étaient:0.19601932975336256\n",
      "beaucoup:0.19188096425873724\n",
      "attente:-0.18232191288866106\n",
      "journée:0.16292781903495954\n",
      "\n"
     ]
    }
   ],
   "source": [
    "#détecter les 5 termes les plus fortement liés (CTR) avec chaque facteur\n",
    "carreTermes = svd.components_**2\n",
    "\n",
    "#pour chaque facteur\n",
    "for i in range(carreTermes.shape[0]):\n",
    "    #index des valeurs triées\n",
    "    index = np.argsort(carreTermes[i,:])\n",
    "    #inversion pour que les max. soient en premier\n",
    "    index = index[::-1] #ou encore index = np.flip(index)\n",
    "    #affichage des 5 premiers\n",
    "    print(\"FACTEUR : \"+ str(i))\n",
    "    for j in range(5):\n",
    "        print(parseur_ter.get_feature_names_out()[index[j]]+\":\"+str(svd.components_[i,index[j]]))\n",
    "    print(\"\")\n"
   ]
  },
  {
   "cell_type": "code",
   "execution_count": 342,
   "metadata": {},
   "outputs": [
    {
     "name": "stdout",
     "output_type": "stream",
     "text": [
      "(1467, 10)\n"
     ]
    }
   ],
   "source": [
    "#dim. de la matrice des observations\n",
    "print(csvd.shape)"
   ]
  },
  {
   "cell_type": "code",
   "execution_count": 391,
   "metadata": {},
   "outputs": [
    {
     "data": {
      "image/png": "[encoded data removed]",
      "text/plain": [
       "<Figure size 640x480 with 1 Axes>"
      ]
     },
     "metadata": {},
     "output_type": "display_data"
    }
   ],
   "source": [
    "\n",
    "#représentation des points dans le premier plan\n",
    "import matplotlib.pyplot as plt\n",
    "plt.scatter(csvd[:,0],csvd[:,1],s=1)\n",
    "plt.show()"
   ]
  },
  {
   "cell_type": "code",
   "execution_count": 392,
   "metadata": {},
   "outputs": [
    {
     "data": {
      "image/png": "[encoded data removed]",
      "text/plain": [
       "<Figure size 640x480 with 25 Axes>"
      ]
     },
     "metadata": {},
     "output_type": "display_data"
    }
   ],
   "source": [
    "\n",
    "#graphique deux à deux sur les 5 premiers facteurs\n",
    "import matplotlib.gridspec as gridspec\n",
    "gs = gridspec.GridSpec(5,5)\n",
    "for i in range(5):\n",
    "    for j in range(5):\n",
    "        ax = plt.subplot(gs[i,j])\n",
    "        if (i == j):\n",
    "            ax.hist(csvd[:,i])            \n",
    "        else:\n",
    "            ax.scatter(csvd[:,i],csvd[:,j],s=1)\n",
    "plt.show()"
   ]
  },
  {
   "cell_type": "code",
   "execution_count": 345,
   "metadata": {},
   "outputs": [
    {
     "name": "stdout",
     "output_type": "stream",
     "text": [
      "(array([   3,   14,   66,   77,   80,  110,  111,  188,  194,  210,  217,\n",
      "        257,  274,  284,  294,  360,  394,  408,  413,  415,  463,  522,\n",
      "        541,  561,  573,  615,  630,  642,  662,  672,  696,  698,  764,\n",
      "        794,  798,  802,  838,  939,  959, 1034, 1035, 1044, 1076, 1094,\n",
      "       1101, 1126, 1180, 1220, 1268, 1319, 1338, 1339, 1433], dtype=int32),)\n"
     ]
    }
   ],
   "source": [
    "#les numéros des documents excentrés sur le 1er facteur\n",
    "outliers = np.where(csvd[:,0] > 2.0)\n",
    "print(outliers)"
   ]
  },
  {
   "cell_type": "code",
   "execution_count": 346,
   "metadata": {},
   "outputs": [
    {
     "name": "stdout",
     "output_type": "stream",
     "text": [
      "[   3   14   66   77   80  110  111  188  194  210  217  257  274  284\n",
      "  294  360  394  408  413  415  463  522  541  561  573  615  630  642\n",
      "  662  672  696  698  764  794  798  802  838  939  959 1034 1035 1044\n",
      " 1076 1094 1101 1126 1180 1220 1268 1319 1338 1339 1433]\n"
     ]
    }
   ],
   "source": [
    "\n",
    "#index des outliers\n",
    "indexOutliers = np.array(outliers[0],dtype=int)\n",
    "print(indexOutliers)"
   ]
  },
  {
   "cell_type": "code",
   "execution_count": 347,
   "metadata": {},
   "outputs": [
    {
     "name": "stdout",
     "output_type": "stream",
     "text": [
      "3        L'anticipation était probablement la plus gra...\n",
      "14       Nous avons visité le 4 janvier, à une période...\n",
      "66       J'ai eu une très mauvaise expérience avec Dis...\n",
      "77       J'y étais pour la première fois au début de l...\n",
      "80       Été à Euro Disney 3-4-5 janvier 2023. Désolé ...\n",
      "110      Nous avons séjourné au parc avec 2 enfants en...\n",
      "111      C'est un peu difficile pour moi de commenter ...\n",
      "188      J'ai été extrêmement déçu du service que j'ai...\n",
      "194      5-8 décembre 2022PRIX EN HAUT - SERVICE EN BA...\n",
      "210      Beaucoup trop de monde. Souvent dû faire la q...\n",
      "217      Nous avons visité les parcs pendant 2 jours e...\n",
      "257      A voir au moins une fois dans sa vie.Vraiment...\n",
      "274      Très bien organisé et conçu. Même s'il y a be...\n",
      "284      Nous avons visité Disneyland Paris en janvier...\n",
      "294      Mon fiancé et moi avons passé une belle journ...\n",
      "360      Visiter Disneyland Paris est un rêve ! Et cel...\n",
      "394      😍Notre première fois à Disneyland ParisCoût d...\n",
      "408      Nous avons réservé 2 jours pour les deux parc...\n",
      "413      Il ne fait aucun doute que c'est un endroit d...\n",
      "415      Personnel très propre et serviable quand nous...\n",
      "463      Pensez-vous qu'en dehors des vacances, c'est ...\n",
      "522      Dans le parc, les attractions sont bien décor...\n",
      "541      C'est une entreprise incroyablement gourmande...\n",
      "561      Nous sommes venus ici le jour de Noël, il y a...\n",
      "573      Le parc est magnifique, très interactif, les ...\n",
      "615      Nous venons de passer 3 jours Disneyland Pari...\n",
      "630      Lieu magique pour retomber en enfance. Pour q...\n",
      "642      Ce site est un lieu magique, où malgré les an...\n",
      "662      Immense parc à thème aux portes de Paris (40k...\n",
      "672      Conseil impartial, ne partez pas en vacances ...\n",
      "696      L'une des meilleures expériences. Cela a défi...\n",
      "698      J'étais à Disneyland en juillet. Les souvenir...\n",
      "764      Attention, la nourriture dans tout le parc es...\n",
      "794      Si vous n'êtes pas allé à Disneyland, c'est t...\n",
      "798      Nous étions en mai, nous étions super excités...\n",
      "802      (Attendre SpiderMan est inutile, pas d'action...\n",
      "838      Beaucoup de pression. Les jeunes enfants sont...\n",
      "939      Disneyland est le parc à thème par excellence...\n",
      "959      Nous avons acheté des billets pour la soirée ...\n",
      "1034     Il est clair que tout ce qu'ils veulent, c'es...\n",
      "1035     Eu une tonne de plaisir ici. Deux parcs à app...\n",
      "1044     Ce parc laisse beaucoup à désirer. La moitié ...\n",
      "1076     Nous avons eu un accident de la circulation p...\n",
      "1094     Nous sommes allés au parc un jour férié allem...\n",
      "1101     J'ai adoré le parc. Nous sommes allés en fami...\n",
      "1126     Super expérience pour moi et ma famille, 1er ...\n",
      "1180     Que puis-je dire - c'est Disneyland. Celui-ci...\n",
      "1220     Nous sommes allés en famille, 6 adultes et 2 ...\n",
      "1268     Très décevant!!! Tout ici n'est pas fait pour...\n",
      "1319     Très déçu!!!!! Parc à moitié ressources….. no...\n",
      "1338     Le parc lui-même était magique mais certains ...\n",
      "1339     La normalité est revenue à Disneyland. 🎉Le se...\n",
      "1433     C'est un endroit unique incroyablement beau. ...\n",
      "Name: Text, dtype: object\n"
     ]
    }
   ],
   "source": [
    "#affichage des commentaires concernés\n",
    "print(disney.loc[indexOutliers,'Text'])"
   ]
  },
  {
   "cell_type": "code",
   "execution_count": 348,
   "metadata": {},
   "outputs": [
    {
     "name": "stdout",
     "output_type": "stream",
     "text": [
      "3       3\n",
      "14      5\n",
      "66      1\n",
      "77      4\n",
      "80      3\n",
      "110     5\n",
      "111     5\n",
      "188     2\n",
      "194     2\n",
      "210     3\n",
      "217     3\n",
      "257     5\n",
      "274     5\n",
      "284     4\n",
      "294     5\n",
      "360     4\n",
      "394     4\n",
      "408     3\n",
      "413     4\n",
      "415     5\n",
      "463     4\n",
      "522     2\n",
      "541     1\n",
      "561     4\n",
      "573     5\n",
      "615     5\n",
      "630     5\n",
      "642     5\n",
      "662     4\n",
      "672     2\n",
      "696     5\n",
      "698     5\n",
      "764     1\n",
      "794     5\n",
      "798     1\n",
      "802     5\n",
      "838     1\n",
      "939     5\n",
      "959     1\n",
      "1034    2\n",
      "1035    5\n",
      "1044    1\n",
      "1076    1\n",
      "1094    5\n",
      "1101    5\n",
      "1126    5\n",
      "1180    3\n",
      "1220    1\n",
      "1268    2\n",
      "1319    1\n",
      "1338    3\n",
      "1339    5\n",
      "1433    5\n",
      "Name: Review_Rate, dtype: int64\n"
     ]
    }
   ],
   "source": [
    "\n",
    "#affichage des notes\n",
    "print(disney.loc[indexOutliers,'Review Rate'])"
   ]
  },
  {
   "cell_type": "code",
   "execution_count": 349,
   "metadata": {},
   "outputs": [
    {
     "name": "stdout",
     "output_type": "stream",
     "text": [
      "['__class__', '__delattr__', '__dict__', '__dir__', '__doc__', '__eq__', '__format__', '__ge__', '__getattribute__', '__getstate__', '__gt__', '__hash__', '__init__', '__init_subclass__', '__le__', '__lt__', '__module__', '__ne__', '__new__', '__reduce__', '__reduce_ex__', '__repr__', '__setattr__', '__setstate__', '__sizeof__', '__str__', '__subclasshook__', '__weakref__', '_approx_bound', '_check_feature_names', '_check_n_features', '_check_non_neg_array', '_check_params', '_e_step', '_em_step', '_get_param_names', '_get_tags', '_init_latent_vars', '_more_tags', '_n_features_out', '_perplexity_precomp_distr', '_repr_html_', '_repr_html_inner', '_repr_mimebundle_', '_unnormalized_transform', '_validate_data', 'batch_size', 'bound_', 'components_', 'doc_topic_prior', 'doc_topic_prior_', 'evaluate_every', 'exp_dirichlet_component_', 'fit', 'fit_transform', 'get_feature_names_out', 'get_params', 'learning_decay', 'learning_method', 'learning_offset', 'max_doc_update_iter', 'max_iter', 'mean_change_tol', 'n_batch_iter_', 'n_components', 'n_features_in_', 'n_iter_', 'n_jobs', 'partial_fit', 'perp_tol', 'perplexity', 'random_state', 'random_state_', 'score', 'set_params', 'topic_word_prior', 'topic_word_prior_', 'total_samples', 'transform', 'verbose']\n"
     ]
    }
   ],
   "source": [
    "#****************\n",
    "#LDA en 10 topics\n",
    "#****************\n",
    "\n",
    "#importation de la classe\n",
    "from sklearn.decomposition import LatentDirichletAllocation\n",
    "\n",
    "#instanciation\n",
    "lda = LatentDirichletAllocation(n_components=10,random_state=0)\n",
    "\n",
    "#resultats\n",
    "clda = lda.fit_transform(mdt_ter)\n",
    "\n",
    "#propriétés de l'objet\n",
    "print(dir(lda))"
   ]
  },
  {
   "cell_type": "code",
   "execution_count": 350,
   "metadata": {},
   "outputs": [
    {
     "name": "stdout",
     "output_type": "stream",
     "text": [
      "(10, 2814)\n"
     ]
    }
   ],
   "source": [
    "#components\n",
    "print(lda.components_.shape)"
   ]
  },
  {
   "cell_type": "code",
   "execution_count": 351,
   "metadata": {},
   "outputs": [
    {
     "name": "stdout",
     "output_type": "stream",
     "text": [
      "TOPIC : 0\n",
      "entrée:11.784920272085136\n",
      "sécurité:9.100026951719231\n",
      "expérience:8.100097861445226\n",
      "spectacles:8.100052346291355\n",
      "sommes:8.10003395274831\n",
      "\n",
      "TOPIC : 1\n",
      "expérience:13.250652360658902\n",
      "attente:12.253208152723243\n",
      "chaque:11.074378940354672\n",
      "jours:10.914940610474678\n",
      "pendant:9.608686202465748\n",
      "\n",
      "TOPIC : 2\n",
      "attente:19.195157887718665\n",
      "prix:11.858853167882094\n",
      "bien:11.231180606198429\n",
      "parcs:10.829676620695626\n",
      "nourriture:9.960682992515315\n",
      "\n",
      "TOPIC : 3\n",
      "attractions:8.024649632772574\n",
      "fille:6.100052025362167\n",
      "avait:5.100040939713398\n",
      "nourriture:4.100067244775864\n",
      "euros:4.1000530738546805\n",
      "\n",
      "TOPIC : 4\n",
      "enfants:12.10009422445193\n",
      "endroit:11.338382127584318\n",
      "expérience:11.100138556155688\n",
      "voir:8.932655714679907\n",
      "attente:6.948894989333429\n",
      "\n",
      "TOPIC : 5\n",
      "attente:9.413677192371878\n",
      "trop:9.10015117923545\n",
      "beaucoup:7.9878810594889895\n",
      "monde:6.100092330428957\n",
      "temps:5.761677866327461\n",
      "\n",
      "TOPIC : 6\n",
      "enfants:17.10010958557285\n",
      "attractions:13.63663815481497\n",
      "endroit:13.100023760096937\n",
      "aux:11.985469972776633\n",
      "super:10.690838581994997\n",
      "\n",
      "TOPIC : 7\n",
      "endroit:15.324479192884555\n",
      "bien:14.673034232323218\n",
      "attractions:10.100085581535298\n",
      "enfants:9.619095632565081\n",
      "visite:9.055824690175749\n",
      "\n",
      "TOPIC : 8\n",
      "attente:64.15617258901369\n",
      "files:31.65736000715984\n",
      "attractions:24.271942469183447\n",
      "temps:23.794894636566823\n",
      "beaucoup:23.176491492894247\n",
      "\n",
      "TOPIC : 9\n",
      "attractions:20.699075845894733\n",
      "beaucoup:16.25622761248506\n",
      "temps:12.793645991582274\n",
      "pouvez:12.584309250727808\n",
      "attente:12.349859745865864\n",
      "\n"
     ]
    }
   ],
   "source": [
    "#pour chaque facteur\n",
    "for i in range(lda.components_.shape[0]):\n",
    "    #index des valeurs triées\n",
    "    index = np.argsort(lda.components_[i,:])\n",
    "    #inversion pour que les max. soient en premier\n",
    "    index = index[::-1]\n",
    "    #affichage des 5 premiers\n",
    "    print(\"TOPIC : \"+ str(i))\n",
    "    for j in range(5):\n",
    "        print(parseur_ter.get_feature_names_out()[index[j]]+\":\"+str(lda.components_[i,index[j]]))\n",
    "    print(\"\")\n"
   ]
  },
  {
   "cell_type": "code",
   "execution_count": 352,
   "metadata": {},
   "outputs": [
    {
     "name": "stdout",
     "output_type": "stream",
     "text": [
      "(1467, 10)\n",
      "[1. 1. 1. ... 1. 1. 1.]\n"
     ]
    }
   ],
   "source": [
    "#informations sur les individus\n",
    "print(clda.shape)\n",
    "\n",
    "#calcul de la somme par ligne\n",
    "print(np.sum(clda,axis=1))\n"
   ]
  },
  {
   "cell_type": "code",
   "execution_count": 353,
   "metadata": {},
   "outputs": [
    {
     "name": "stdout",
     "output_type": "stream",
     "text": [
      "[0 0 0 ... 0 5 0]\n",
      "[0 1 2 3 4 5 6 7 8 9]\n",
      "[1162   38   29   16   30   26   32   36   52   46]\n"
     ]
    }
   ],
   "source": [
    "#topic de rattachement pour chaque individu\n",
    "topicIndiv = np.argmax(clda,axis=1)\n",
    "print(topicIndiv)\n",
    "\n",
    "#distribution de fréquences\n",
    "idTopic, nbTopic = np.unique(topicIndiv,return_counts=True)\n",
    "print(idTopic)\n",
    "print(nbTopic)\n"
   ]
  },
  {
   "cell_type": "code",
   "execution_count": 354,
   "metadata": {},
   "outputs": [
    {
     "name": "stdout",
     "output_type": "stream",
     "text": [
      "0\n",
      "col_0          0   1   2  3   4  5   6   7   8   9\n",
      "Review_Rate                                       \n",
      "1             74   4   5  3   2  2   2   2   8   4\n",
      "2             31   2   1  2   2  4   1   0   8   3\n",
      "3             58   6   3  1   1  4   3   3   8   4\n",
      "4            183   5   9  3   6  7   6   2  12   9\n",
      "5            816  21  11  7  19  9  20  29  16  26\n"
     ]
    }
   ],
   "source": [
    "#topic le plus populaire\n",
    "print(np.argmax(nbTopic))\n",
    "\n",
    "#croisement avec la note\n",
    "disney_topics = pandas.crosstab(disney['Review Rate'],topicIndiv)\n",
    "print(disney_topics)"
   ]
  },
  {
   "cell_type": "code",
   "execution_count": 355,
   "metadata": {},
   "outputs": [
    {
     "name": "stdout",
     "output_type": "stream",
     "text": [
      "Review_Rate\n",
      "1    106\n",
      "2     54\n",
      "3     91\n",
      "4    242\n",
      "5    974\n",
      "dtype: int64\n",
      "      0     1     2     3     4     5     6     7     8     9\n",
      "0  0.70  0.04  0.05  0.03  0.02  0.02  0.02  0.02  0.08  0.04\n",
      "1  0.57  0.04  0.02  0.04  0.04  0.07  0.02  0.00  0.15  0.06\n",
      "2  0.64  0.07  0.03  0.01  0.01  0.04  0.03  0.03  0.09  0.04\n",
      "3  0.76  0.02  0.04  0.01  0.02  0.03  0.02  0.01  0.05  0.04\n",
      "4  0.84  0.02  0.01  0.01  0.02  0.01  0.02  0.03  0.02  0.03\n"
     ]
    }
   ],
   "source": [
    "#somme pour chaque ligne\n",
    "somme_ligne = np.sum(disney_topics,axis=1)\n",
    "print(somme_ligne)\n",
    "\n",
    "#profil ligne en passant par quelque chose qui ressemble au apply() de R\n",
    "def profil(x):\n",
    "    return(x/np.sum(x))\n",
    "\n",
    "profil_ligne = np.apply_along_axis(profil,axis=1,arr=disney_topics.values)\n",
    "print(pandas.DataFrame(profil_ligne).round(2))\n"
   ]
  },
  {
   "cell_type": "code",
   "execution_count": 356,
   "metadata": {},
   "outputs": [
    {
     "name": "stdout",
     "output_type": "stream",
     "text": [
      "[5 3 2 4 1]\n",
      "(1, 2814)\n"
     ]
    }
   ],
   "source": [
    "#récupérer les modalités de la note\n",
    "modalites = pandas.unique(disney['Review Rate'])\n",
    "print(modalites)\n",
    "\n",
    "#élaborer la première ligne de la matrice\n",
    "mc = np.zeros(shape=(1,mdt_ter.shape[1]))\n",
    "print(mc.shape)\n"
   ]
  },
  {
   "cell_type": "code",
   "execution_count": 1,
   "metadata": {},
   "outputs": [
    {
     "ename": "NameError",
     "evalue": "name 'disney' is not defined",
     "output_type": "error",
     "traceback": [
      "\u001b[1;31m---------------------------------------------------------------------------\u001b[0m",
      "\u001b[1;31mNameError\u001b[0m                                 Traceback (most recent call last)",
      "Cell \u001b[1;32mIn[1], line 7\u001b[0m\n\u001b[0;32m      4\u001b[0m tb \u001b[39m=\u001b[39m Blobber(pos_tagger\u001b[39m=\u001b[39mPatternTagger(), analyzer\u001b[39m=\u001b[39mPatternAnalyzer())\n\u001b[0;32m      6\u001b[0m senti_list \u001b[39m=\u001b[39m []\n\u001b[1;32m----> 7\u001b[0m \u001b[39mfor\u001b[39;00m i \u001b[39min\u001b[39;00m disney[\u001b[39m\"\u001b[39m\u001b[39mReview Text\u001b[39m\u001b[39m\"\u001b[39m]:\n\u001b[0;32m      8\u001b[0m     vs \u001b[39m=\u001b[39m tb(i)\u001b[39m.\u001b[39msentiment[\u001b[39m0\u001b[39m]\n\u001b[0;32m      9\u001b[0m     \u001b[39mif\u001b[39;00m (vs \u001b[39m>\u001b[39m \u001b[39m0\u001b[39m):\n",
      "\u001b[1;31mNameError\u001b[0m: name 'disney' is not defined"
     ]
    }
   ],
   "source": [
    "from textblob import Blobber\n",
    "from textblob_fr import PatternTagger, PatternAnalyzer\n",
    "\n",
    "tb = Blobber(pos_tagger=PatternTagger(), analyzer=PatternAnalyzer())\n",
    "\n",
    "senti_list = []\n",
    "for i in disney[\"Review Text\"]:\n",
    "    vs = tb(i).sentiment[0]\n",
    "    if (vs > 0):\n",
    "        senti_list.append('Positive')\n",
    "    elif (vs < 0):\n",
    "        senti_list.append('Negative')\n",
    "    else:\n",
    "        senti_list.append('Neutral')\n",
    "\n",
    "disney[\"sentiment\"]=senti_list\n",
    "disney[\"sentiment\"]=disney[\"sentiment\"].astype('category')\n",
    "\n",
    "\n",
    "\n",
    "print(disney[\"sentiment\"])"
   ]
  },
  {
   "cell_type": "code",
   "execution_count": null,
   "metadata": {},
   "outputs": [],
   "source": [
    "disney.head()"
   ]
  },
  {
   "cell_type": "code",
   "execution_count": null,
   "metadata": {},
   "outputs": [],
   "source": [
    "disney.to_csv(\"C:/Users/kenan/Desktop/textmining/propre.csv\",index=False)"
   ]
  }
 ],
 "metadata": {
  "kernelspec": {
   "display_name": "Python 3",
   "language": "python",
   "name": "python3"
  },
  "language_info": {
   "codemirror_mode": {
    "name": "ipython",
    "version": 3
   },
   "file_extension": ".py",
   "mimetype": "text/x-python",
   "name": "python",
   "nbconvert_exporter": "python",
   "pygments_lexer": "ipython3",
   "version": "3.8.7"
  },
  "orig_nbformat": 4,
  "vscode": {
   "interpreter": {
    "hash": "fbc1f517bc3dd7974b919b3c0eb648d94502ea3179ed42a16cc4063688249112"
   }
  }
 },
 "nbformat": 4,
 "nbformat_minor": 2
}
