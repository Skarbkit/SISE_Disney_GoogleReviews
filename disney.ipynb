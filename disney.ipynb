{
 "cells": [
  {
   "cell_type": "code",
   "execution_count": 11,
   "metadata": {},
   "outputs": [],
   "source": [
    "#numpy\n",
    "import numpy as np\n",
    "\n",
    "#chargement des posts dans une liste\n",
    "import os\n",
    "os.chdir(\"C:/Users/kenan/Desktop/textmining\")\n",
    "\n",
    "#import pandas\n",
    "import pandas\n",
    "disney = pandas.read_csv(\"disney_comment.txt\",sep=\",\",header=0)\n"
   ]
  },
  {
   "cell_type": "code",
   "execution_count": 12,
   "metadata": {},
   "outputs": [
    {
     "name": "stdout",
     "output_type": "stream",
     "text": [
      "<class 'pandas.core.frame.DataFrame'>\n"
     ]
    }
   ],
   "source": [
    "#type\n",
    "print(type(disney))"
   ]
  },
  {
   "cell_type": "code",
   "execution_count": 13,
   "metadata": {},
   "outputs": [
    {
     "name": "stdout",
     "output_type": "stream",
     "text": [
      "Index(['Review_ID', 'Review_Rate', 'Review_Time', 'Review_Text',\n",
      "       'Review_Visite'],\n",
      "      dtype='object')\n"
     ]
    }
   ],
   "source": [
    "#énumération des colonnes\n",
    "print(disney.columns)"
   ]
  },
  {
   "cell_type": "code",
   "execution_count": 14,
   "metadata": {},
   "outputs": [
    {
     "name": "stdout",
     "output_type": "stream",
     "text": [
      "Review_ID        object\n",
      "Review_Rate       int64\n",
      "Review_Time      object\n",
      "Review_Text      object\n",
      "Review_Visite    object\n",
      "dtype: object\n"
     ]
    }
   ],
   "source": [
    "#type des colonnes\n",
    "print(disney.dtypes)"
   ]
  },
  {
   "cell_type": "code",
   "execution_count": 6,
   "metadata": {},
   "outputs": [
    {
     "name": "stdout",
     "output_type": "stream",
     "text": [
      "       Review Rate\n",
      "count  1467.000000\n",
      "mean      4.311520\n",
      "std       1.194758\n",
      "min       1.000000\n",
      "25%       4.000000\n",
      "50%       5.000000\n",
      "75%       5.000000\n",
      "max       5.000000\n"
     ]
    }
   ],
   "source": [
    "#description\n",
    "print(disney.describe())"
   ]
  },
  {
   "cell_type": "code",
   "execution_count": 7,
   "metadata": {},
   "outputs": [
    {
     "name": "stdout",
     "output_type": "stream",
     "text": [
      "(1467, 5)\n"
     ]
    }
   ],
   "source": [
    "#dimension\n",
    "print(disney.shape)"
   ]
  },
  {
   "cell_type": "code",
   "execution_count": 16,
   "metadata": {},
   "outputs": [
    {
     "name": "stdout",
     "output_type": "stream",
     "text": [
      "0                                              no comment\n",
      "1       Un incontournable, clap de fin d’un séjour mag...\n",
      "2                                              no comment\n",
      "3       (Traduit par Google) L'anticipation était prob...\n",
      "4                                              no comment\n",
      "                              ...                        \n",
      "1462                                           no comment\n",
      "1463                                           no comment\n",
      "1464                                           no comment\n",
      "1465    (Traduit par Google) Le mot \"meh\" me vient à l...\n",
      "1466                                           no comment\n",
      "Name: Review_Text, Length: 1467, dtype: object\n"
     ]
    }
   ],
   "source": [
    "#afficher le contenu de la colonne review rate\n",
    "print(disney['Review_Text'])"
   ]
  },
  {
   "cell_type": "code",
   "execution_count": 15,
   "metadata": {},
   "outputs": [
    {
     "name": "stdout",
     "output_type": "stream",
     "text": [
      "5    974\n",
      "4    242\n",
      "1    106\n",
      "3     91\n",
      "2     54\n",
      "Name: Review_Rate, dtype: int64\n"
     ]
    }
   ],
   "source": [
    "#fréquence du nombre de notes\n",
    "print(disney.Review_Rate.value_counts())"
   ]
  },
  {
   "cell_type": "code",
   "execution_count": 83,
   "metadata": {},
   "outputs": [],
   "source": [
    "#fonction pour ne garder que le commentaire traduit\n",
    "def find_between( s, first, last ):\n",
    "    try:\n",
    "        start = s.index( first ) + len( first )\n",
    "        end = s.index(last)\n",
    "        return s[start:end]\n",
    "    except ValueError:\n",
    "        return \"\""
   ]
  },
  {
   "cell_type": "code",
   "execution_count": 91,
   "metadata": {},
   "outputs": [],
   "source": [
    "#création d'une nouvelle colonne avce uniquement le commentaire traduit\n",
    "disney['Text'] = disney['Review_Text'].apply(lambda x: find_between(x, \"(Traduit par Google)\" ,\"(Avis d'origine)\"))"
   ]
  },
  {
   "cell_type": "code",
   "execution_count": 92,
   "metadata": {},
   "outputs": [
    {
     "name": "stdout",
     "output_type": "stream",
     "text": [
      "['02' '10' '100' ... 'êtes' 'être' 'œil']\n"
     ]
    }
   ],
   "source": [
    "#importer la classe CountVectorizer\n",
    "from sklearn.feature_extraction.text import CountVectorizer\n",
    "parseur = CountVectorizer()\n",
    "\n",
    "#pour la colonne \"Text\"\n",
    "X = parseur.fit_transform(disney['Text'])\n",
    "\n",
    "#liste des tokens\n",
    "print(parseur.get_feature_names_out())\n",
    "\n"
   ]
  },
  {
   "cell_type": "code",
   "execution_count": 93,
   "metadata": {},
   "outputs": [
    {
     "name": "stdout",
     "output_type": "stream",
     "text": [
      "2879\n"
     ]
    }
   ],
   "source": [
    "#nombre de tokens\n",
    "print(len(parseur.get_feature_names_out()))"
   ]
  },
  {
   "cell_type": "code",
   "execution_count": 94,
   "metadata": {},
   "outputs": [
    {
     "name": "stdout",
     "output_type": "stream",
     "text": [
      "<class 'numpy.ndarray'>\n",
      "(1467, 2879)\n"
     ]
    }
   ],
   "source": [
    "#construire la matrice\n",
    "mdt = X.toarray()\n",
    "print(type(mdt))\n",
    "print(mdt.shape)"
   ]
  },
  {
   "cell_type": "code",
   "execution_count": 95,
   "metadata": {},
   "outputs": [
    {
     "name": "stdout",
     "output_type": "stream",
     "text": [
      "[ 1 13  6 ... 20 53  2]\n"
     ]
    }
   ],
   "source": [
    "#apparition des mots\n",
    "freq_mots = np.sum(mdt,axis=0)\n",
    "print(freq_mots)"
   ]
  },
  {
   "cell_type": "code",
   "execution_count": 96,
   "metadata": {},
   "outputs": [
    {
     "name": "stdout",
     "output_type": "stream",
     "text": [
      "[   0 1647 1646 ... 1491 1017  730]\n"
     ]
    }
   ],
   "source": [
    "#argsort\n",
    "index = np.argsort(freq_mots)\n",
    "print(index)"
   ]
  },
  {
   "cell_type": "code",
   "execution_count": 97,
   "metadata": {},
   "outputs": [
    {
     "name": "stdout",
     "output_type": "stream",
     "text": [
      "          terme  freq\n",
      "0            02     1\n",
      "1     minimales     1\n",
      "2       minimal     1\n",
      "3          mini     1\n",
      "4      minables     1\n",
      "...         ...   ...\n",
      "2874         la   382\n",
      "2875         le   425\n",
      "2876        les   453\n",
      "2877         et   600\n",
      "2878         de   727\n",
      "\n",
      "[2879 rows x 2 columns]\n"
     ]
    },
    {
     "name": "stderr",
     "output_type": "stream",
     "text": [
      "c:\\Users\\kenan\\AppData\\Local\\Programs\\Python\\Python38-32\\lib\\site-packages\\sklearn\\utils\\deprecation.py:87: FutureWarning: Function get_feature_names is deprecated; get_feature_names is deprecated in 1.0 and will be removed in 1.2. Please use get_feature_names_out instead.\n",
      "  warnings.warn(msg, category=FutureWarning)\n"
     ]
    }
   ],
   "source": [
    "#astuce pour imprimer en deux colonnes\n",
    "imp = {'terme':np.asarray(parseur.get_feature_names())[index],'freq':freq_mots[index]}\n",
    "print(pandas.DataFrame(imp))\n"
   ]
  },
  {
   "cell_type": "code",
   "execution_count": 27,
   "metadata": {},
   "outputs": [
    {
     "name": "stdout",
     "output_type": "stream",
     "text": [
      "showing info https://raw.githubusercontent.com/nltk/nltk_data/gh-pages/index.xml\n"
     ]
    },
    {
     "data": {
      "text/plain": [
       "True"
      ]
     },
     "execution_count": 27,
     "metadata": {},
     "output_type": "execute_result"
    }
   ],
   "source": [
    "#importer la librairie NLTK\n",
    "import nltk\n",
    "#installer \"Stopwords corpus\" à partir de l'onglet \"CORPORA\"\n",
    "#nltk.download()"
   ]
  },
  {
   "cell_type": "code",
   "execution_count": 98,
   "metadata": {},
   "outputs": [],
   "source": [
    "#charger les stopwords\n",
    "from nltk.corpus import stopwords\n",
    "stwf = stopwords.words('french')"
   ]
  },
  {
   "cell_type": "code",
   "execution_count": 99,
   "metadata": {},
   "outputs": [
    {
     "name": "stdout",
     "output_type": "stream",
     "text": [
      "157\n"
     ]
    }
   ],
   "source": [
    "\n",
    "#nombre\n",
    "print(len(stwf))"
   ]
  },
  {
   "cell_type": "code",
   "execution_count": 100,
   "metadata": {},
   "outputs": [
    {
     "name": "stdout",
     "output_type": "stream",
     "text": [
      "['au', 'aux', 'avec', 'ce', 'ces', 'dans', 'de', 'des', 'du', 'elle', 'en', 'et', 'eux', 'il', 'ils', 'je', 'la', 'le', 'les', 'leur', 'lui', 'ma', 'mais', 'me', 'même', 'mes', 'moi', 'mon', 'ne', 'nos', 'notre', 'nous', 'on', 'ou', 'par', 'pas', 'pour', 'qu', 'que', 'qui', 'sa', 'se', 'ses', 'son', 'sur', 'ta', 'te', 'tes', 'toi', 'ton', 'tu', 'un', 'une', 'vos', 'votre', 'vous', 'c', 'd', 'j', 'l', 'à', 'm', 'n', 's', 't', 'y', 'été', 'étée', 'étées', 'étés', 'étant', 'étante', 'étants', 'étantes', 'suis', 'es', 'est', 'sommes', 'êtes', 'sont', 'serai', 'seras', 'sera', 'serons', 'serez', 'seront', 'serais', 'serait', 'serions', 'seriez', 'seraient', 'étais', 'était', 'étions', 'étiez', 'étaient', 'fus', 'fut', 'fûmes', 'fûtes', 'furent', 'sois', 'soit', 'soyons', 'soyez', 'soient', 'fusse', 'fusses', 'fût', 'fussions', 'fussiez', 'fussent', 'ayant', 'ayante', 'ayantes', 'ayants', 'eu', 'eue', 'eues', 'eus', 'ai', 'as', 'avons', 'avez', 'ont', 'aurai', 'auras', 'aura', 'aurons', 'aurez', 'auront', 'aurais', 'aurait', 'aurions', 'auriez', 'auraient', 'avais', 'avait', 'avions', 'aviez', 'avaient', 'eut', 'eûmes', 'eûtes', 'eurent', 'aie', 'aies', 'ait', 'ayons', 'ayez', 'aient', 'eusse', 'eusses', 'eût', 'eussions', 'eussiez', 'eussent']\n"
     ]
    }
   ],
   "source": [
    "\n",
    "#afficher\n",
    "print(stwf)"
   ]
  },
  {
   "cell_type": "code",
   "execution_count": 101,
   "metadata": {},
   "outputs": [
    {
     "name": "stdout",
     "output_type": "stream",
     "text": [
      "['ai' 'aie' 'aient' 'aies' 'ait' 'as' 'au' 'aura' 'aurai' 'auraient'\n",
      " 'aurais' 'aurait' 'auras' 'aurez' 'auriez' 'aurions' 'aurons' 'auront'\n",
      " 'aux' 'avaient' 'avais' 'avait' 'avec' 'avez' 'aviez' 'avions' 'avons'\n",
      " 'ayant' 'ayante' 'ayantes' 'ayants' 'ayez' 'ayons' 'c' 'ce' 'ces' 'd'\n",
      " 'dans' 'de' 'des' 'du' 'elle' 'en' 'es' 'est' 'et' 'eu' 'eue' 'eues'\n",
      " 'eurent' 'eus' 'eusse' 'eussent' 'eusses' 'eussiez' 'eussions' 'eut'\n",
      " 'eux' 'eûmes' 'eût' 'eûtes' 'furent' 'fus' 'fusse' 'fussent' 'fusses'\n",
      " 'fussiez' 'fussions' 'fut' 'fûmes' 'fût' 'fûtes' 'il' 'ils' 'j' 'je' 'l'\n",
      " 'la' 'le' 'les' 'leur' 'lui' 'm' 'ma' 'mais' 'me' 'mes' 'moi' 'mon'\n",
      " 'même' 'n' 'ne' 'nos' 'notre' 'nous' 'on' 'ont' 'ou' 'par' 'pas' 'pour'\n",
      " 'qu' 'que' 'qui' 's' 'sa' 'se' 'sera' 'serai' 'seraient' 'serais'\n",
      " 'serait' 'seras' 'serez' 'seriez' 'serions' 'serons' 'seront' 'ses'\n",
      " 'soient' 'sois' 'soit' 'sommes' 'son' 'sont' 'soyez' 'soyons' 'suis'\n",
      " 'sur' 't' 'ta' 'te' 'tes' 'toi' 'ton' 'tu' 'un' 'une' 'vos' 'votre'\n",
      " 'vous' 'y' 'à' 'étaient' 'étais' 'était' 'étant' 'étante' 'étantes'\n",
      " 'étants' 'étiez' 'étions' 'été' 'étée' 'étées' 'étés' 'êtes']\n"
     ]
    }
   ],
   "source": [
    "\n",
    "#affichage trié\n",
    "print(np.sort(stwf))"
   ]
  },
  {
   "cell_type": "code",
   "execution_count": 102,
   "metadata": {},
   "outputs": [
    {
     "name": "stdout",
     "output_type": "stream",
     "text": [
      "['ai' 'aie' 'aient' 'aies' 'ait' 'as' 'au' 'aura' 'aurai' 'auraient'\n",
      " 'aurais' 'aurait' 'auras' 'aurez' 'auriez' 'aurions' 'aurons' 'auront'\n",
      " 'aux' 'avaient' 'avais' 'avait' 'avec' 'avez' 'aviez' 'avions' 'avons'\n",
      " 'ayant' 'ayante' 'ayantes' 'ayants' 'ayez' 'ayons' 'c' 'ce' 'ces' 'd'\n",
      " 'dans' 'de' 'des' 'du' 'elle' 'en' 'es' 'est' 'et' 'eu' 'eue' 'eues'\n",
      " 'eurent' 'eus' 'eusse' 'eussent' 'eusses' 'eussiez' 'eussions' 'eut'\n",
      " 'eux' 'eûmes' 'eût' 'eûtes' 'furent' 'fus' 'fusse' 'fussent' 'fusses'\n",
      " 'fussiez' 'fussions' 'fut' 'fûmes' 'fût' 'fûtes' 'il' 'ils' 'j' 'je' 'l'\n",
      " 'la' 'le' 'les' 'les' 'leur' 'lui' 'm' 'ma' 'mais' 'me' 'mes' 'moi' 'mon'\n",
      " 'même' 'n' 'ne' 'nos' 'notre' 'nous' 'on' 'ont' 'ou' 'par' 'pas' 'pour'\n",
      " 'qu' 'que' 'qui' 's' 'sa' 'se' 'sera' 'serai' 'seraient' 'serais'\n",
      " 'serait' 'seras' 'serez' 'seriez' 'serions' 'serons' 'seront' 'ses'\n",
      " 'soient' 'sois' 'soit' 'sommes' 'son' 'sont' 'soyez' 'soyons' 'suis'\n",
      " 'sur' 't' 'ta' 'te' 'tes' 'toi' 'ton' 'tu' 'un' 'une' 'vos' 'votre'\n",
      " 'vous' 'y' 'à' 'étaient' 'étais' 'était' 'étant' 'étante' 'étantes'\n",
      " 'étants' 'étiez' 'étions' 'été' 'étée' 'étées' 'étés' 'êtes']\n"
     ]
    }
   ],
   "source": [
    "#on va ajouter le stopword 'les'\n",
    "stwf.append('les')\n",
    "\n",
    "\n",
    "#afficher\n",
    "print(np.sort(stwf))\n"
   ]
  },
  {
   "cell_type": "code",
   "execution_count": 104,
   "metadata": {},
   "outputs": [
    {
     "name": "stdout",
     "output_type": "stream",
     "text": [
      "2783\n",
      "['02' '10' '100' ... 'événements' 'être' 'œil']\n"
     ]
    }
   ],
   "source": [
    "\n",
    "#reconstruire la mdt sans les stopwords\n",
    "parseur_bis = CountVectorizer(stop_words=stwf)\n",
    "X_bis = parseur_bis.fit_transform(disney['Text'])\n",
    "\n",
    "\n",
    "#liste des tokens\n",
    "print(len(parseur_bis.get_feature_names_out()))\n",
    "print(parseur_bis.get_feature_names_out())\n"
   ]
  },
  {
   "cell_type": "code",
   "execution_count": 105,
   "metadata": {},
   "outputs": [
    {
     "name": "stdout",
     "output_type": "stream",
     "text": [
      "(1467, 2783)\n"
     ]
    }
   ],
   "source": [
    "\n",
    "#mdt_bis\n",
    "mdt_bis = X_bis.toarray()\n",
    "print(mdt_bis.shape)"
   ]
  },
  {
   "cell_type": "code",
   "execution_count": 106,
   "metadata": {},
   "outputs": [
    {
     "name": "stdout",
     "output_type": "stream",
     "text": [
      "[ 1 13  6 ...  5 53  2]\n"
     ]
    }
   ],
   "source": [
    "\n",
    "#apparition des mots\n",
    "freq_mots_bis = np.sum(mdt_bis,axis=0)\n",
    "print(freq_mots_bis)\n"
   ]
  },
  {
   "cell_type": "code",
   "execution_count": 107,
   "metadata": {},
   "outputs": [
    {
     "name": "stdout",
     "output_type": "stream",
     "text": [
      "[   0 1610 1607 ... 1795 1937 2582]\n"
     ]
    }
   ],
   "source": [
    "\n",
    "#argsort\n",
    "index_bis = np.argsort(freq_mots_bis)\n",
    "print(index_bis)\n"
   ]
  },
  {
   "cell_type": "code",
   "execution_count": 108,
   "metadata": {},
   "outputs": [
    {
     "name": "stdout",
     "output_type": "stream",
     "text": [
      "             terme  freq\n",
      "0               02     1\n",
      "1            mises     1\n",
      "2     minutestemps     1\n",
      "3           minuit     1\n",
      "4         ministre     1\n",
      "...            ...   ...\n",
      "2778          tout   114\n",
      "2779       attente   139\n",
      "2780          parc   145\n",
      "2781          plus   158\n",
      "2782          très   160\n",
      "\n",
      "[2783 rows x 2 columns]\n"
     ]
    }
   ],
   "source": [
    "\n",
    "#astuce pour imprimer en deux colonnes\n",
    "imp = {'terme':np.asarray(parseur_bis.get_feature_names_out())[index_bis],'freq':freq_mots_bis[index_bis]}\n",
    "print(pandas.DataFrame(imp))"
   ]
  },
  {
   "cell_type": "code",
   "execution_count": 109,
   "metadata": {},
   "outputs": [
    {
     "name": "stdout",
     "output_type": "stream",
     "text": [
      "['au', 'aux', 'avec', 'ce', 'ces', 'dans', 'de', 'des', 'du', 'elle', 'en', 'et', 'eux', 'il', 'ils', 'je', 'la', 'le', 'les', 'leur', 'lui', 'ma', 'mais', 'me', 'même', 'mes', 'moi', 'mon', 'ne', 'nos', 'notre', 'nous', 'on', 'ou', 'par', 'pas', 'pour', 'qu', 'que', 'qui', 'sa', 'se', 'ses', 'son', 'sur', 'ta', 'te', 'tes', 'toi', 'ton', 'tu', 'un', 'une', 'vos', 'votre', 'vous', 'c', 'd', 'j', 'l', 'à', 'm', 'n', 's', 't', 'y', 'été', 'étée', 'étées', 'étés', 'étant', 'étante', 'étants', 'étantes', 'suis', 'es', 'est', 'sommes', 'êtes', 'sont', 'serai', 'seras', 'sera', 'serons', 'serez', 'seront', 'serais', 'serait', 'serions', 'seriez', 'seraient', 'étais', 'était', 'étions', 'étiez', 'étaient', 'fus', 'fut', 'fûmes', 'fûtes', 'furent', 'sois', 'soit', 'soyons', 'soyez', 'soient', 'fusse', 'fusses', 'fût', 'fussions', 'fussiez', 'fussent', 'ayant', 'ayante', 'ayantes', 'ayants', 'eu', 'eue', 'eues', 'eus', 'ai', 'as', 'avons', 'avez', 'ont', 'aurai', 'auras', 'aura', 'aurons', 'aurez', 'auront', 'aurais', 'aurait', 'aurions', 'auriez', 'auraient', 'avais', 'avait', 'avions', 'aviez', 'avaient', 'eut', 'eûmes', 'eûtes', 'eurent', 'aie', 'aies', 'ait', 'ayons', 'ayez', 'aient', 'eusse', 'eusses', 'eût', 'eussions', 'eussiez', 'eussent', 'les', 'zero', 'un', 'deux', 'trois', 'quatre', 'cinq', 'six', 'sept', 'huit', 'neuf', 'dix']\n"
     ]
    }
   ],
   "source": [
    "\n",
    "#rajouter les chiffres en stop words\n",
    "stwf.extend(['zero','un','deux','trois','quatre','cinq','six','sept','huit','neuf','dix'])\n",
    "print(stwf)"
   ]
  },
  {
   "cell_type": "code",
   "execution_count": 110,
   "metadata": {},
   "outputs": [
    {
     "name": "stdout",
     "output_type": "stream",
     "text": [
      "2779\n",
      "['02' '10' '100' ... 'événements' 'être' 'œil']\n",
      "(1467, 2779)\n",
      "[ 1 13  6 ...  5 53  2]\n",
      "[   0 1608 1605 ... 1793 1935 2578]\n",
      "             terme  freq\n",
      "0               02     1\n",
      "1            mises     1\n",
      "2     minutestemps     1\n",
      "3           minuit     1\n",
      "4         ministre     1\n",
      "...            ...   ...\n",
      "2774          tout   114\n",
      "2775       attente   139\n",
      "2776          parc   145\n",
      "2777          plus   158\n",
      "2778          très   160\n",
      "\n",
      "[2779 rows x 2 columns]\n"
     ]
    }
   ],
   "source": [
    "\n",
    "#reconstruire la mdt\n",
    "parseur_ter = CountVectorizer(stop_words=stwf)\n",
    "X_ter = parseur_ter.fit_transform(disney['Text'])\n",
    "#liste des tokens\n",
    "print(len(parseur_ter.get_feature_names_out()))\n",
    "print(parseur_ter.get_feature_names_out())\n",
    "#mdt_ter\n",
    "mdt_ter = X_ter.toarray()\n",
    "print(mdt_ter.shape)\n",
    "#apparition des mots\n",
    "freq_mots_ter = np.sum(mdt_ter,axis=0)\n",
    "print(freq_mots_ter)\n",
    "#argmax\n",
    "index_ter = np.argsort(freq_mots_ter)\n",
    "print(index_ter)\n",
    "#astuce pour imprimer en deux colonnes\n",
    "imp = {'terme':np.asarray(parseur_ter.get_feature_names_out())[index_ter],'freq':freq_mots_ter[index_ter]}\n",
    "print(pandas.DataFrame(imp))"
   ]
  },
  {
   "cell_type": "code",
   "execution_count": 111,
   "metadata": {},
   "outputs": [
    {
     "name": "stdout",
     "output_type": "stream",
     "text": [
      "['__class__', '__delattr__', '__dict__', '__dir__', '__doc__', '__eq__', '__format__', '__ge__', '__getattribute__', '__getstate__', '__gt__', '__hash__', '__init__', '__init_subclass__', '__le__', '__lt__', '__module__', '__ne__', '__new__', '__reduce__', '__reduce_ex__', '__repr__', '__setattr__', '__setstate__', '__sizeof__', '__str__', '__subclasshook__', '__weakref__', '_check_feature_names', '_check_n_features', '_get_param_names', '_get_tags', '_more_tags', '_n_features_out', '_repr_html_', '_repr_html_inner', '_repr_mimebundle_', '_validate_data', 'algorithm', 'components_', 'explained_variance_', 'explained_variance_ratio_', 'fit', 'fit_transform', 'get_feature_names_out', 'get_params', 'inverse_transform', 'n_components', 'n_features_in_', 'n_iter', 'n_oversamples', 'power_iteration_normalizer', 'random_state', 'set_params', 'singular_values_', 'tol', 'transform']\n"
     ]
    }
   ],
   "source": [
    "#******************\n",
    "#SVD en 10 facteurs\n",
    "#******************\n",
    "#importation de la classe\n",
    "from sklearn.decomposition import TruncatedSVD\n",
    "#instanciation\n",
    "svd = TruncatedSVD(n_components=10,algorithm=\"arpack\")\n",
    "#apprentissage\n",
    "csvd = svd.fit_transform(mdt_ter.astype(float)) # ou (1.0*mdt_ter)\n",
    "#attributs de l'objet\n",
    "print(dir(svd))"
   ]
  },
  {
   "cell_type": "code",
   "execution_count": 112,
   "metadata": {},
   "outputs": [
    {
     "name": "stdout",
     "output_type": "stream",
     "text": [
      "[0.13941641 0.03753684 0.0294044  0.02663643 0.02300119 0.0225302\n",
      " 0.01954976 0.01807877 0.01576752 0.0151967 ]\n"
     ]
    }
   ],
   "source": [
    "#variance expliquée par facteur\n",
    "print(svd.explained_variance_ratio_)"
   ]
  },
  {
   "cell_type": "code",
   "execution_count": 113,
   "metadata": {},
   "outputs": [
    {
     "name": "stdout",
     "output_type": "stream",
     "text": [
      "0.3471182263937199\n"
     ]
    }
   ],
   "source": [
    "#total variance expliquée\n",
    "print(np.sum(svd.explained_variance_ratio_))"
   ]
  },
  {
   "cell_type": "code",
   "execution_count": 114,
   "metadata": {},
   "outputs": [
    {
     "name": "stdout",
     "output_type": "stream",
     "text": [
      "(10, 2779)\n"
     ]
    }
   ],
   "source": [
    "#dimension du tableau des valeurs\n",
    "print(svd.components_.shape)"
   ]
  },
  {
   "cell_type": "code",
   "execution_count": 115,
   "metadata": {},
   "outputs": [
    {
     "name": "stdout",
     "output_type": "stream",
     "text": [
      "[1. 1. 1. 1. 1. 1. 1. 1. 1. 1.]\n"
     ]
    }
   ],
   "source": [
    "#somme des carrés des valeurs en ligne\n",
    "print(np.sum(svd.components_**2,axis=1))"
   ]
  },
  {
   "cell_type": "code",
   "execution_count": 116,
   "metadata": {},
   "outputs": [
    {
     "name": "stdout",
     "output_type": "stream",
     "text": [
      "FACTEUR : 0\n",
      "plus:0.3065755930079049\n",
      "très:0.29781656920834204\n",
      "parc:0.2386991342687345\n",
      "attente:0.2371848088759794\n",
      "tout:0.22333962521332917\n",
      "\n",
      "FACTEUR : 1\n",
      "entrée:0.34263021574275826\n",
      "sécurité:0.31597633332632674\n",
      "sud:0.30906073357826214\n",
      "attente:-0.2339067474389418\n",
      "disneyland:0.19526622120399784\n",
      "\n",
      "FACTEUR : 2\n",
      "disney:0.5625053547025811\n",
      "attente:-0.25157385743479893\n",
      "très:-0.21469414003582216\n",
      "fois:0.1502094496140317\n",
      "files:-0.1375677104266335\n",
      "\n",
      "FACTEUR : 3\n",
      "attractions:-0.30692971514971806\n",
      "parc:-0.26231770169582325\n",
      "plus:0.18638343992245743\n",
      "vraiment:0.1854282700648028\n",
      "manèges:0.18121069576698248\n",
      "\n",
      "FACTEUR : 4\n",
      "attente:-0.4058908379753176\n",
      "attractions:0.24995904534892185\n",
      "disneyland:0.20574660325636804\n",
      "files:-0.19359620911204653\n",
      "entrée:-0.19305404794221842\n",
      "\n",
      "FACTEUR : 5\n",
      "parc:-0.32561846256168514\n",
      "disneyland:0.3044433330459037\n",
      "tout:-0.281884667431016\n",
      "si:0.27516450872102344\n",
      "attractions:-0.1848749576872327\n",
      "\n",
      "FACTEUR : 6\n",
      "parc:0.31682706455608056\n",
      "spectacle:0.2069330793003272\n",
      "bien:0.18065435678808373\n",
      "jours:-0.14876371162893826\n",
      "si:-0.147897157062869\n",
      "\n",
      "FACTEUR : 7\n",
      "parc:0.23769717368754456\n",
      "tout:-0.2144617131604683\n",
      "ans:-0.1890332784738884\n",
      "chaque:0.1804226072682621\n",
      "si:-0.15827743937807295\n",
      "\n",
      "FACTEUR : 8\n",
      "très:0.34362794212346\n",
      "plus:-0.2799328427728458\n",
      "parc:-0.23444708317112545\n",
      "attendre:0.1959928704650916\n",
      "temps:0.18464753268050077\n",
      "\n",
      "FACTEUR : 9\n",
      "fille:0.2397405319836556\n",
      "tout:-0.22446494135456108\n",
      "attente:-0.18535753492108487\n",
      "petite:0.173956850591593\n",
      "cela:0.13528115377006245\n",
      "\n"
     ]
    }
   ],
   "source": [
    "#détecter les 5 termes les plus fortement liés (CTR) avec chaque facteur\n",
    "carreTermes = svd.components_**2\n",
    "\n",
    "#pour chaque facteur\n",
    "for i in range(carreTermes.shape[0]):\n",
    "    #index des valeurs triées\n",
    "    index = np.argsort(carreTermes[i,:])\n",
    "    #inversion pour que les max. soient en premier\n",
    "    index = index[::-1] #ou encore index = np.flip(index)\n",
    "    #affichage des 5 premiers\n",
    "    print(\"FACTEUR : \"+ str(i))\n",
    "    for j in range(5):\n",
    "        print(parseur_ter.get_feature_names_out()[index[j]]+\":\"+str(svd.components_[i,index[j]]))\n",
    "    print(\"\")\n"
   ]
  },
  {
   "cell_type": "code",
   "execution_count": 117,
   "metadata": {},
   "outputs": [
    {
     "name": "stdout",
     "output_type": "stream",
     "text": [
      "(1467, 10)\n"
     ]
    }
   ],
   "source": [
    "#dim. de la matrice des observations\n",
    "print(csvd.shape)"
   ]
  },
  {
   "cell_type": "code",
   "execution_count": 120,
   "metadata": {},
   "outputs": [
    {
     "data": {
      "image/png": "[encoded data removed]",
      "text/plain": [
       "<Figure size 640x480 with 1 Axes>"
      ]
     },
     "metadata": {},
     "output_type": "display_data"
    }
   ],
   "source": [
    "\n",
    "#représentation des points dans le premier plan\n",
    "import matplotlib.pyplot as plt\n",
    "plt.scatter(csvd[:,0],csvd[:,1],s=1)\n",
    "plt.show()"
   ]
  },
  {
   "cell_type": "code",
   "execution_count": 121,
   "metadata": {},
   "outputs": [
    {
     "data": {
      "image/png": "[encoded data removed]",
      "text/plain": [
       "<Figure size 640x480 with 25 Axes>"
      ]
     },
     "metadata": {},
     "output_type": "display_data"
    }
   ],
   "source": [
    "\n",
    "#graphique deux à deux sur les 5 premiers facteurs\n",
    "#on peut le faire aussi, plus simplement avec seaborn par ex.\n",
    "import matplotlib.gridspec as gridspec\n",
    "gs = gridspec.GridSpec(5,5)\n",
    "for i in range(5):\n",
    "    for j in range(5):\n",
    "        ax = plt.subplot(gs[i,j])\n",
    "        if (i == j):\n",
    "            ax.hist(csvd[:,i])            \n",
    "        else:\n",
    "            ax.scatter(csvd[:,i],csvd[:,j],s=1)\n",
    "plt.show()"
   ]
  },
  {
   "cell_type": "code",
   "execution_count": 122,
   "metadata": {},
   "outputs": [
    {
     "name": "stdout",
     "output_type": "stream",
     "text": [
      "(array([   3,   14,   66,   77,   80,  110,  111,  188,  194,  208,  210,\n",
      "        217,  245,  257,  274,  284,  286,  294,  304,  315,  360,  372,\n",
      "        394,  408,  409,  413,  415,  418,  446,  463,  488,  522,  524,\n",
      "        540,  541,  550,  556,  561,  573,  615,  630,  642,  658,  662,\n",
      "        672,  696,  698,  735,  752,  764,  794,  798,  802,  814,  829,\n",
      "        838,  866,  876,  883,  939,  954,  959,  967, 1034, 1035, 1044,\n",
      "       1072, 1076, 1087, 1094, 1101, 1111, 1126, 1180, 1207, 1220, 1232,\n",
      "       1268, 1319, 1328, 1338, 1339, 1380, 1410, 1433, 1459], dtype=int32),)\n"
     ]
    }
   ],
   "source": [
    "#les numéros des documents excentrés sur le 1er facteur\n",
    "outliers = np.where(csvd[:,0] > 2.0)\n",
    "print(outliers)"
   ]
  },
  {
   "cell_type": "code",
   "execution_count": 123,
   "metadata": {},
   "outputs": [
    {
     "name": "stdout",
     "output_type": "stream",
     "text": [
      "[   3   14   66   77   80  110  111  188  194  208  210  217  245  257\n",
      "  274  284  286  294  304  315  360  372  394  408  409  413  415  418\n",
      "  446  463  488  522  524  540  541  550  556  561  573  615  630  642\n",
      "  658  662  672  696  698  735  752  764  794  798  802  814  829  838\n",
      "  866  876  883  939  954  959  967 1034 1035 1044 1072 1076 1087 1094\n",
      " 1101 1111 1126 1180 1207 1220 1232 1268 1319 1328 1338 1339 1380 1410\n",
      " 1433 1459]\n"
     ]
    }
   ],
   "source": [
    "\n",
    "#index des outliers\n",
    "indexOutliers = np.array(outliers[0],dtype=int)\n",
    "print(indexOutliers)"
   ]
  },
  {
   "cell_type": "code",
   "execution_count": 125,
   "metadata": {},
   "outputs": [
    {
     "name": "stdout",
     "output_type": "stream",
     "text": [
      "3        L'anticipation était probablement la plus gra...\n",
      "14       Nous avons visité le 4 janvier, à une période...\n",
      "66       J'ai eu une très mauvaise expérience avec Dis...\n",
      "77       J'y étais pour la première fois au début de l...\n",
      "80       Été à Euro Disney 3-4-5 janvier 2023. Désolé ...\n",
      "                              ...                        \n",
      "1339     La normalité est revenue à Disneyland. 🎉Le se...\n",
      "1380     Super parc d'amusement ! Un peu plus petit qu...\n",
      "1410     Peu de montagnes russes pour LE prix d'entrée...\n",
      "1433     C'est un endroit unique incroyablement beau. ...\n",
      "1459     Cet endroit a une direction que vous pourriez...\n",
      "Name: Text, Length: 86, dtype: object\n"
     ]
    }
   ],
   "source": [
    "#affichage des commentaires concernés\n",
    "print(disney.loc[indexOutliers,'Text'])"
   ]
  },
  {
   "cell_type": "code",
   "execution_count": 126,
   "metadata": {},
   "outputs": [
    {
     "name": "stdout",
     "output_type": "stream",
     "text": [
      "3       3\n",
      "14      5\n",
      "66      1\n",
      "77      4\n",
      "80      3\n",
      "       ..\n",
      "1339    5\n",
      "1380    4\n",
      "1410    2\n",
      "1433    5\n",
      "1459    3\n",
      "Name: Review_Rate, Length: 86, dtype: int64\n"
     ]
    }
   ],
   "source": [
    "\n",
    "#affichage des notes\n",
    "print(disney.loc[indexOutliers,'Review_Rate'])"
   ]
  },
  {
   "cell_type": "code",
   "execution_count": 127,
   "metadata": {},
   "outputs": [
    {
     "name": "stdout",
     "output_type": "stream",
     "text": [
      "['__class__', '__delattr__', '__dict__', '__dir__', '__doc__', '__eq__', '__format__', '__ge__', '__getattribute__', '__getstate__', '__gt__', '__hash__', '__init__', '__init_subclass__', '__le__', '__lt__', '__module__', '__ne__', '__new__', '__reduce__', '__reduce_ex__', '__repr__', '__setattr__', '__setstate__', '__sizeof__', '__str__', '__subclasshook__', '__weakref__', '_approx_bound', '_check_feature_names', '_check_n_features', '_check_non_neg_array', '_check_params', '_e_step', '_em_step', '_get_param_names', '_get_tags', '_init_latent_vars', '_more_tags', '_n_features_out', '_perplexity_precomp_distr', '_repr_html_', '_repr_html_inner', '_repr_mimebundle_', '_unnormalized_transform', '_validate_data', 'batch_size', 'bound_', 'components_', 'doc_topic_prior', 'doc_topic_prior_', 'evaluate_every', 'exp_dirichlet_component_', 'fit', 'fit_transform', 'get_feature_names_out', 'get_params', 'learning_decay', 'learning_method', 'learning_offset', 'max_doc_update_iter', 'max_iter', 'mean_change_tol', 'n_batch_iter_', 'n_components', 'n_features_in_', 'n_iter_', 'n_jobs', 'partial_fit', 'perp_tol', 'perplexity', 'random_state', 'random_state_', 'score', 'set_params', 'topic_word_prior', 'topic_word_prior_', 'total_samples', 'transform', 'verbose']\n"
     ]
    }
   ],
   "source": [
    "#****************\n",
    "#LDA en 10 topics\n",
    "#****************\n",
    "\n",
    "#importation de la classe\n",
    "from sklearn.decomposition import LatentDirichletAllocation\n",
    "\n",
    "#instanciation\n",
    "lda = LatentDirichletAllocation(n_components=10,random_state=0)\n",
    "\n",
    "#resultats\n",
    "clda = lda.fit_transform(mdt_ter)\n",
    "\n",
    "#propriétés de l'objet\n",
    "print(dir(lda))"
   ]
  },
  {
   "cell_type": "code",
   "execution_count": 128,
   "metadata": {},
   "outputs": [
    {
     "name": "stdout",
     "output_type": "stream",
     "text": [
      "(10, 2779)\n"
     ]
    }
   ],
   "source": [
    "#components\n",
    "print(lda.components_.shape)"
   ]
  },
  {
   "cell_type": "code",
   "execution_count": 129,
   "metadata": {},
   "outputs": [
    {
     "name": "stdout",
     "output_type": "stream",
     "text": [
      "TOPIC : 0\n",
      "entrée:10.738249140767806\n",
      "sécurité:8.100079031611799\n",
      "sud:8.099999999970581\n",
      "disneyland:7.102861285991982\n",
      "moment:7.0984445041141315\n",
      "\n",
      "TOPIC : 1\n",
      "attente:15.495485021314405\n",
      "beaucoup:11.336762927672705\n",
      "files:7.805801013375431\n",
      "magique:6.0288582741373595\n",
      "lieu:5.862315761488776\n",
      "\n",
      "TOPIC : 2\n",
      "peu:9.674561678322576\n",
      "plus:7.852279867369041\n",
      "attente:7.50473036945897\n",
      "attractions:6.9206596124647675\n",
      "donc:6.867371024071831\n",
      "\n",
      "TOPIC : 3\n",
      "très:66.2283753144833\n",
      "si:46.93147334678159\n",
      "plus:43.60607862177608\n",
      "parc:38.932612678124585\n",
      "tout:37.00330706098519\n",
      "\n",
      "TOPIC : 4\n",
      "très:58.65768718960957\n",
      "plus:47.57275261211364\n",
      "attente:42.41627223013236\n",
      "parc:41.70525830429772\n",
      "enfants:31.35363813992442\n",
      "\n",
      "TOPIC : 5\n",
      "disney:11.08137594537232\n",
      "jamais:6.811166949544263\n",
      "attente:5.322878770520195\n",
      "endroit:5.1001756988240325\n",
      "car:4.726011569597496\n",
      "\n",
      "TOPIC : 6\n",
      "plus:6.100040530526074\n",
      "attractions:5.50897093173993\n",
      "prix:4.100085343110975\n",
      "parc:4.100039043575797\n",
      "disney:4.100027525331179\n",
      "\n",
      "TOPIC : 7\n",
      "parc:19.257760168692535\n",
      "disney:17.665314212419574\n",
      "plus:13.746630024637648\n",
      "attente:8.330693030137079\n",
      "temps:8.100058907370247\n",
      "\n",
      "TOPIC : 8\n",
      "attente:35.58953410820481\n",
      "tout:27.750752686219446\n",
      "plus:25.780031250914472\n",
      "parc:23.17506188833569\n",
      "files:20.354561553917762\n",
      "\n",
      "TOPIC : 9\n",
      "jours:7.100114885713237\n",
      "parc:6.260009383880792\n",
      "disney:6.100073094089824\n",
      "chaque:6.074877995532079\n",
      "très:5.55202785209509\n",
      "\n"
     ]
    }
   ],
   "source": [
    "#pour chaque facteur\n",
    "for i in range(lda.components_.shape[0]):\n",
    "    #index des valeurs triées\n",
    "    index = np.argsort(lda.components_[i,:])\n",
    "    #inversion pour que les max. soient en premier\n",
    "    index = index[::-1]\n",
    "    #affichage des 5 premiers\n",
    "    print(\"TOPIC : \"+ str(i))\n",
    "    for j in range(5):\n",
    "        print(parseur_ter.get_feature_names_out()[index[j]]+\":\"+str(lda.components_[i,index[j]]))\n",
    "    print(\"\")\n"
   ]
  },
  {
   "cell_type": "code",
   "execution_count": 130,
   "metadata": {},
   "outputs": [
    {
     "name": "stdout",
     "output_type": "stream",
     "text": [
      "(1467, 10)\n",
      "[1. 1. 1. ... 1. 1. 1.]\n"
     ]
    }
   ],
   "source": [
    "#informations sur les individus\n",
    "print(clda.shape)\n",
    "\n",
    "#calcul de la somme par ligne\n",
    "print(np.sum(clda,axis=1))\n"
   ]
  },
  {
   "cell_type": "code",
   "execution_count": 131,
   "metadata": {},
   "outputs": [
    {
     "name": "stdout",
     "output_type": "stream",
     "text": [
      "[0 0 0 ... 0 2 0]\n",
      "[0 1 2 3 4 5 6 7 8 9]\n",
      "[1149   23   20   92   67   15   14   21   54   12]\n"
     ]
    }
   ],
   "source": [
    "#topic de rattachement pour chaque individu\n",
    "topicIndiv = np.argmax(clda,axis=1)\n",
    "print(topicIndiv)\n",
    "\n",
    "#distribution de fréquences\n",
    "idTopic, nbTopic = np.unique(topicIndiv,return_counts=True)\n",
    "print(idTopic)\n",
    "print(nbTopic)\n"
   ]
  },
  {
   "cell_type": "code",
   "execution_count": 132,
   "metadata": {},
   "outputs": [
    {
     "name": "stdout",
     "output_type": "stream",
     "text": [
      "0\n",
      "col_0          0  1  2   3   4  5  6   7   8  9\n",
      "Review_Rate                                    \n",
      "1             71  2  4   6  10  3  2   2   4  2\n",
      "2             32  3  2   3   6  0  0   1   6  1\n",
      "3             57  1  5  10  11  1  1   2   2  1\n",
      "4            179  8  3  19   9  2  3   3  14  2\n",
      "5            810  9  6  54  31  9  8  13  28  6\n"
     ]
    }
   ],
   "source": [
    "#topic le plus populaire\n",
    "print(np.argmax(nbTopic))\n",
    "\n",
    "#croisement avec la note\n",
    "disney_topics = pandas.crosstab(disney['Review_Rate'],topicIndiv)\n",
    "print(disney_topics)"
   ]
  },
  {
   "cell_type": "code",
   "execution_count": 133,
   "metadata": {},
   "outputs": [
    {
     "name": "stdout",
     "output_type": "stream",
     "text": [
      "Review_Rate\n",
      "1    106\n",
      "2     54\n",
      "3     91\n",
      "4    242\n",
      "5    974\n",
      "dtype: int64\n",
      "      0     1     2     3     4     5     6     7     8     9\n",
      "0  0.67  0.02  0.04  0.06  0.09  0.03  0.02  0.02  0.04  0.02\n",
      "1  0.59  0.06  0.04  0.06  0.11  0.00  0.00  0.02  0.11  0.02\n",
      "2  0.63  0.01  0.05  0.11  0.12  0.01  0.01  0.02  0.02  0.01\n",
      "3  0.74  0.03  0.01  0.08  0.04  0.01  0.01  0.01  0.06  0.01\n",
      "4  0.83  0.01  0.01  0.06  0.03  0.01  0.01  0.01  0.03  0.01\n"
     ]
    }
   ],
   "source": [
    "#somme pour chaque ligne\n",
    "somme_ligne = np.sum(disney_topics,axis=1)\n",
    "print(somme_ligne)\n",
    "\n",
    "#profil ligne en passant par quelque chose qui ressemble au apply() de R\n",
    "def profil(x):\n",
    "    return(x/np.sum(x))\n",
    "\n",
    "profil_ligne = np.apply_along_axis(profil,axis=1,arr=disney_topics.values)\n",
    "print(pandas.DataFrame(profil_ligne).round(2))\n"
   ]
  },
  {
   "cell_type": "code",
   "execution_count": 134,
   "metadata": {},
   "outputs": [
    {
     "name": "stdout",
     "output_type": "stream",
     "text": [
      "[5 3 2 4 1]\n",
      "(1, 2779)\n"
     ]
    }
   ],
   "source": [
    "#récupérer les modalités de la note\n",
    "modalites = pandas.unique(disney['Review_Rate'])\n",
    "print(modalites)\n",
    "\n",
    "#élaborer la première ligne de la matrice\n",
    "mc = np.zeros(shape=(1,mdt_ter.shape[1]))\n",
    "print(mc.shape)\n"
   ]
  },
  {
   "cell_type": "code",
   "execution_count": 135,
   "metadata": {},
   "outputs": [
    {
     "ename": "TypeError",
     "evalue": "can only concatenate str (not \"numpy.int64\") to str",
     "output_type": "error",
     "traceback": [
      "\u001b[1;31m---------------------------------------------------------------------------\u001b[0m",
      "\u001b[1;31mTypeError\u001b[0m                                 Traceback (most recent call last)",
      "Cell \u001b[1;32mIn[135], line 3\u001b[0m\n\u001b[0;32m      1\u001b[0m \u001b[39m#mots les plus utilisés en moyenne pour chaque modalité\u001b[39;00m\n\u001b[0;32m      2\u001b[0m \u001b[39mfor\u001b[39;00m moda \u001b[39min\u001b[39;00m modalites:\n\u001b[1;32m----> 3\u001b[0m     \u001b[39mprint\u001b[39m(\u001b[39m'\u001b[39;49m\u001b[39m>>> \u001b[39;49m\u001b[39m'\u001b[39;49m \u001b[39m+\u001b[39;49m moda \u001b[39m+\u001b[39m \u001b[39m'\u001b[39m\u001b[39m <<<\u001b[39m\u001b[39m'\u001b[39m)\n\u001b[0;32m      4\u001b[0m     \u001b[39m#nombre de réponse\u001b[39;00m\n\u001b[0;32m      5\u001b[0m     concernes \u001b[39m=\u001b[39m np\u001b[39m.\u001b[39masarray(disney[\u001b[39m'\u001b[39m\u001b[39mReview_Rate\u001b[39m\u001b[39m'\u001b[39m]\u001b[39m==\u001b[39mmoda)\n",
      "\u001b[1;31mTypeError\u001b[0m: can only concatenate str (not \"numpy.int64\") to str"
     ]
    }
   ],
   "source": [
    "#mots les plus utilisés en moyenne pour chaque modalité\n",
    "for moda in modalites:\n",
    "    print('>>> ' + moda + ' <<<')\n",
    "    #nombre de réponse\n",
    "    concernes = np.asarray(disney['Review_Rate']==moda)\n",
    "    nb_repondants = np.sum(concernes)\n",
    "    print('Nb de répondants concernees = ' + str(nb_repondants))\n",
    "    #récupérer les freq. corresp.\n",
    "    sm = np.sum(mdt_ter[concernes,:],axis=0)\n",
    "    sm = np.reshape(sm,newshape=(1,mc.shape[1]))\n",
    "    mc = np.append(mc,sm,axis=0)\n"
   ]
  }
 ],
 "metadata": {
  "kernelspec": {
   "display_name": "Python 3",
   "language": "python",
   "name": "python3"
  },
  "language_info": {
   "codemirror_mode": {
    "name": "ipython",
    "version": 3
   },
   "file_extension": ".py",
   "mimetype": "text/x-python",
   "name": "python",
   "nbconvert_exporter": "python",
   "pygments_lexer": "ipython3",
   "version": "3.8.7"
  },
  "orig_nbformat": 4,
  "vscode": {
   "interpreter": {
    "hash": "fbc1f517bc3dd7974b919b3c0eb648d94502ea3179ed42a16cc4063688249112"
   }
  }
 },
 "nbformat": 4,
 "nbformat_minor": 2
}
