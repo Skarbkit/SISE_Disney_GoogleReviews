{
 "cells": [
  {
   "cell_type": "code",
   "execution_count": 3,
   "metadata": {},
   "outputs": [
    {
     "ename": "SyntaxError",
     "evalue": "invalid syntax (46824682.py, line 1)",
     "output_type": "error",
     "traceback": [
      "\u001b[1;36m  Cell \u001b[1;32mIn[3], line 1\u001b[1;36m\u001b[0m\n\u001b[1;33m    pip install selenium\u001b[0m\n\u001b[1;37m        ^\u001b[0m\n\u001b[1;31mSyntaxError\u001b[0m\u001b[1;31m:\u001b[0m invalid syntax\n"
     ]
    }
   ],
   "source": [
    "#pip install selenium\n",
    "#pip install webdriver_manager"
   ]
  },
  {
   "cell_type": "code",
   "execution_count": 2,
   "metadata": {},
   "outputs": [],
   "source": [
    "import pandas as pd\n",
    "import time\n",
    "from selenium import webdriver\n",
    "from selenium.webdriver.chrome.service import Service as ChromeService\n",
    "from webdriver_manager.chrome import ChromeDriverManager\n",
    "from selenium.webdriver.common.by import By\n",
    "from selenium.webdriver.support import expected_conditions as EC\n",
    "from selenium.webdriver.chrome.service import Service\n",
    "\n",
    "from selenium.webdriver.support.ui import WebDriverWait\n",
    "from selenium.webdriver.common.by import By\n",
    "from selenium.webdriver.chrome.service import Service\n",
    "from selenium.common.exceptions import NoSuchElementException\n",
    "import time\n",
    "import csv\n",
    "from bs4 import BeautifulSoup\n",
    "import pandas as pd\n",
    "from datetime import datetime"
   ]
  },
  {
   "cell_type": "code",
   "execution_count": 3,
   "metadata": {},
   "outputs": [],
   "source": [
    "dict_url = {\n",
    "            \"Disney's Hotel Santa Fe\": \"https://www.google.com/travel/hotels/Disney's%20Hotel%20Santa%20Fe/entity/CgoI5L6wr_jJzolsEAE/reviews?q=Disney%27s%20Hotel%20Santa%20Fe&g2lb=2502548%2C2503771%2C2503781%2C4258168%2C4270442%2C4284970%2C4291517%2C4306835%2C4597339%2C4718358%2C4723331%2C4731329%2C4754388%2C4757164%2C4810792%2C4810794%2C4814050%2C4861688%2C4864715%2C4865467%2C4874190%2C4886082%2C4886480%2C4893075%2C4902277%2C4903082%2C4906050%2C4910829%2C4911170%2C4920622%2C4926165&hl=fr-FR&gl=fr&ssta=1&rp=EOS-sK_4yc6JbBDkvrCv-MnOiWw4AkAASAHAAQI&ictx=1&sa=X&ved=0CAAQ5JsGahcKEwiwhon707D8AhUAAAAAHQAAAAAQBA&utm_campaign=sharing&utm_medium=link&utm_source=htls&ts=CAESABpJCisSJzIlMHgxMmE1NjIxYzkzNjI4ZjQ5OjB4NmMxMzNhNGY4NWVjMWY2NBoAEhoSFAoHCOcPEAEYCxIHCOcPEAEYDBgBMgIQACoJCgU6A0VVUhoA\"\n",
    "           }"
   ]
  },
  {
   "cell_type": "code",
   "execution_count": 4,
   "metadata": {},
   "outputs": [],
   "source": [
    "# Test avec hotel santa fe\n",
    "url1 = dict_url.get(\"Disney's Hotel Santa Fe\")"
   ]
  },
  {
   "cell_type": "code",
   "execution_count": 5,
   "metadata": {},
   "outputs": [],
   "source": [
    "path=Service(r'/C:/Users/kenan/Desktop/textmining/chromedriver.exe')\n",
    "\n",
    " # Open webpage\n",
    "driver=webdriver.Chrome(service=path)\n",
    "time.sleep(2)\n",
    "\n",
    "driver.get(url1)\n",
    "time.sleep(3)\n",
    "\n",
    "# Refus Cookie\n",
    "element = driver.execute_script(\"return document.querySelector('[jsname=tWT92d]')\")\n",
    "\n",
    "# Click the element\n",
    "element.click()\n"
   ]
  },
  {
   "cell_type": "code",
   "execution_count": 23,
   "metadata": {},
   "outputs": [],
   "source": [
    "driver.get(url1)\n",
    "time.sleep(5)\n",
    "\n",
    "# bouton pour déroulé\n",
    "element2 = driver.execute_script(\"return document.querySelector('[jsname=fMAOF]')\")\n",
    "# Click\n",
    "element2.click()\n",
    "\n",
    "# Filter by most recent reviews \n",
    "element3 = driver.execute_script(\"return document.querySelector('[jsname=wQNmvb]')\")\n",
    "# Click\n",
    "element3.click()\n",
    "time.sleep(1)\n",
    "\n",
    "\n"
   ]
  },
  {
   "cell_type": "code",
   "execution_count": 24,
   "metadata": {},
   "outputs": [],
   "source": [
    "#cliqué sur plus récent\n",
    "driver.find_element(By.XPATH, '//*[@id=\"reviews\"]/c-wiz/c-wiz/div/div/div/div[4]/div[3]/span/span/div[1]/div[2]/div[2]').click()"
   ]
  },
  {
   "cell_type": "code",
   "execution_count": 26,
   "metadata": {},
   "outputs": [
    {
     "name": "stdout",
     "output_type": "stream",
     "text": [
      "<class 'int'>\n",
      "15186\n"
     ]
    }
   ],
   "source": [
    "# Get total number of reviews\n",
    "nb_reviews = driver.find_element(By.XPATH, '//*[@id=\"reviews\"]/c-wiz/c-wiz/div/div/div/div[1]/div[2]/div[1]/div[2]/div/div[2]/div[3]').text.split(' ')[0]\n",
    "\n",
    "# Convert str to int \n",
    "nb_reviews = nb_reviews.replace(u\"\\u202f\",\"\") if u\"\\u202f\" in nb_reviews else nb_reviews\n",
    "nb_reviews = int(nb_reviews.replace(',', ''))\n",
    "\n",
    "print(type(nb_reviews))\n",
    "print(nb_reviews)"
   ]
  },
  {
   "cell_type": "code",
   "execution_count": 31,
   "metadata": {},
   "outputs": [
    {
     "name": "stdout",
     "output_type": "stream",
     "text": [
      "0\n",
      "1\n",
      "2\n",
      "3\n",
      "4\n",
      "5\n",
      "6\n",
      "7\n",
      "8\n",
      "9\n",
      "10\n",
      "11\n",
      "12\n",
      "13\n",
      "14\n",
      "15\n",
      "16\n",
      "17\n",
      "18\n",
      "19\n",
      "20\n",
      "21\n",
      "22\n",
      "23\n",
      "24\n",
      "25\n",
      "26\n",
      "27\n",
      "28\n",
      "29\n",
      "30\n",
      "31\n",
      "32\n",
      "33\n",
      "34\n",
      "35\n",
      "36\n",
      "37\n",
      "38\n",
      "39\n",
      "40\n",
      "41\n",
      "42\n",
      "43\n",
      "44\n",
      "45\n",
      "46\n",
      "47\n",
      "48\n",
      "49\n"
     ]
    }
   ],
   "source": [
    "# Normalement on le calcul avec nb_reviews sachant que par refresh on a 10 commentaires \n",
    "#nb_refresh = nb_reviews/10\n",
    "nb_refresh = 50\n",
    "refresh_time = 2 # A ajuster selon la rapidité de refresh, parce que s'il est trop court on saute des commentaires\n",
    "\n",
    "for i in range(nb_refresh):\n",
    "    driver.execute_script(\"window.scrollTo(0, document.body.scrollHeight);\")\n",
    "    time.sleep(refresh_time)\n",
    "    print(i)"
   ]
  },
  {
   "cell_type": "code",
   "execution_count": 33,
   "metadata": {},
   "outputs": [],
   "source": [
    "response = BeautifulSoup(driver.page_source, 'html.parser')\n",
    "\n",
    "# Récupère tous les commentaires\n",
    "r = response.find_all('div', class_=\"Svr5cf bKhjM\")\n",
    "o = response.find_all('div', class_=\"dA5Vzb\")"
   ]
  },
  {
   "cell_type": "code",
   "execution_count": 38,
   "metadata": {},
   "outputs": [],
   "source": [
    "# Récupère seulement les éléments qui nous intéresse et transforme les résultats en dataframe\n",
    "def get_review_to_df(result_set):\n",
    "    rev_dict = {'Review Rate': [],\n",
    "        'Review Time': [],\n",
    "        'Review chambre' : [],\n",
    "        'Review service' : [],\n",
    "        'Review emplacement' : [],\n",
    "        'Review Text' : [],\n",
    "        'Review Visite' : []}\n",
    "    for result in result_set:\n",
    "        review_rate = result.find('span', class_=\"GDWaad\").text\n",
    "        review_time = result.find('span',class_='iUtr1 CQYfx').text\n",
    "        if (result.find('span', class_='K7oBsc')):\n",
    "            review_text = result.find('span', class_='K7oBsc').text\n",
    "        else :\n",
    "            review_text = \"no comment\"\n",
    "        if (result.find('span', class_='xdR1zd')):\n",
    "            review_visite = result.find('span', class_='xdR1zd').text\n",
    "        else :\n",
    "            review_visite = \"no comment\"\n",
    "        if (result.find('span', class_='dA5Vzb')):\n",
    "            review_chambre = result.find('span', class_='dA5Vzb')[1].text\n",
    "        else :\n",
    "            review_chambre = \"no rating\"\n",
    "        if (result.find('span', class_='dA5Vzb')):\n",
    "            review_service = result.find('span', class_='dA5Vzb')[1].text\n",
    "        else :\n",
    "            review_service = \"no rating\"\n",
    "        if (result.find('span', class_='dA5Vzb')):\n",
    "            review_emplacement = result.find('span', class_='dA5Vzb')[1].text\n",
    "        else :\n",
    "            review_emplacement = \"no rating\"\n",
    "        \n",
    "\n",
    "\n",
    "        rev_dict['Review Rate'].append(review_rate)\n",
    "        rev_dict['Review Time'].append(review_time)\n",
    "        rev_dict['Review Text'].append(review_text)\n",
    "        rev_dict['Review Visite'].append(review_visite)\n",
    "        rev_dict['Review chambre'].append(review_chambre)\n",
    "        rev_dict['Review service'].append(review_service)\n",
    "        rev_dict['Review emplacement'].append(review_emplacement)\n",
    "\n",
    "    return(pd.DataFrame(rev_dict))"
   ]
  },
  {
   "cell_type": "code",
   "execution_count": 39,
   "metadata": {},
   "outputs": [
    {
     "ename": "AttributeError",
     "evalue": "'NoneType' object has no attribute 'text'",
     "output_type": "error",
     "traceback": [
      "\u001b[1;31m---------------------------------------------------------------------------\u001b[0m",
      "\u001b[1;31mAttributeError\u001b[0m                            Traceback (most recent call last)",
      "Cell \u001b[1;32mIn[39], line 1\u001b[0m\n\u001b[1;32m----> 1\u001b[0m get_review_to_df(r)\n\u001b[0;32m      2\u001b[0m get_review_to_df(o)\n",
      "Cell \u001b[1;32mIn[38], line 11\u001b[0m, in \u001b[0;36mget_review_to_df\u001b[1;34m(result_set)\u001b[0m\n\u001b[0;32m      3\u001b[0m rev_dict \u001b[39m=\u001b[39m {\u001b[39m'\u001b[39m\u001b[39mReview Rate\u001b[39m\u001b[39m'\u001b[39m: [],\n\u001b[0;32m      4\u001b[0m     \u001b[39m'\u001b[39m\u001b[39mReview Time\u001b[39m\u001b[39m'\u001b[39m: [],\n\u001b[0;32m      5\u001b[0m     \u001b[39m'\u001b[39m\u001b[39mReview chambre\u001b[39m\u001b[39m'\u001b[39m : [],\n\u001b[1;32m   (...)\u001b[0m\n\u001b[0;32m      8\u001b[0m     \u001b[39m'\u001b[39m\u001b[39mReview Text\u001b[39m\u001b[39m'\u001b[39m : [],\n\u001b[0;32m      9\u001b[0m     \u001b[39m'\u001b[39m\u001b[39mReview Visite\u001b[39m\u001b[39m'\u001b[39m : []}\n\u001b[0;32m     10\u001b[0m \u001b[39mfor\u001b[39;00m result \u001b[39min\u001b[39;00m result_set:\n\u001b[1;32m---> 11\u001b[0m     review_rate \u001b[39m=\u001b[39m result\u001b[39m.\u001b[39;49mfind(\u001b[39m'\u001b[39;49m\u001b[39mspan\u001b[39;49m\u001b[39m'\u001b[39;49m, class_\u001b[39m=\u001b[39;49m\u001b[39m\"\u001b[39;49m\u001b[39mGDWaad\u001b[39;49m\u001b[39m\"\u001b[39;49m)\u001b[39m.\u001b[39;49mtext\n\u001b[0;32m     12\u001b[0m     review_time \u001b[39m=\u001b[39m result\u001b[39m.\u001b[39mfind(\u001b[39m'\u001b[39m\u001b[39mspan\u001b[39m\u001b[39m'\u001b[39m,class_\u001b[39m=\u001b[39m\u001b[39m'\u001b[39m\u001b[39miUtr1 CQYfx\u001b[39m\u001b[39m'\u001b[39m)\u001b[39m.\u001b[39mtext\n\u001b[0;32m     13\u001b[0m     \u001b[39mif\u001b[39;00m (result\u001b[39m.\u001b[39mfind(\u001b[39m'\u001b[39m\u001b[39mspan\u001b[39m\u001b[39m'\u001b[39m, class_\u001b[39m=\u001b[39m\u001b[39m'\u001b[39m\u001b[39mK7oBsc\u001b[39m\u001b[39m'\u001b[39m)):\n",
      "\u001b[1;31mAttributeError\u001b[0m: 'NoneType' object has no attribute 'text'"
     ]
    }
   ],
   "source": [
    "get_review_to_df(r)\n",
    "get_review_to_df(o)"
   ]
  },
  {
   "cell_type": "code",
   "execution_count": null,
   "metadata": {},
   "outputs": [],
   "source": [
    "driver.close()"
   ]
  }
 ],
 "metadata": {
  "kernelspec": {
   "display_name": "Python 3",
   "language": "python",
   "name": "python3"
  },
  "language_info": {
   "codemirror_mode": {
    "name": "ipython",
    "version": 3
   },
   "file_extension": ".py",
   "mimetype": "text/x-python",
   "name": "python",
   "nbconvert_exporter": "python",
   "pygments_lexer": "ipython3",
   "version": "3.8.7"
  },
  "orig_nbformat": 4,
  "vscode": {
   "interpreter": {
    "hash": "fbc1f517bc3dd7974b919b3c0eb648d94502ea3179ed42a16cc4063688249112"
   }
  }
 },
 "nbformat": 4,
 "nbformat_minor": 2
}
